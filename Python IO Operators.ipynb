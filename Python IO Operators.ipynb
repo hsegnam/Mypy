{
 "cells": [
  {
   "cell_type": "code",
   "execution_count": 1,
   "id": "6faa9d18",
   "metadata": {},
   "outputs": [],
   "source": [
    "# We can receive the input from user by using ---> input()\n",
    "# Python string can be formatted in the desired format by using format() funcion with print\n"
   ]
  },
  {
   "cell_type": "code",
   "execution_count": 2,
   "id": "4287ec40",
   "metadata": {},
   "outputs": [
    {
     "name": "stdout",
     "output_type": "stream",
     "text": [
      "Enter the name: John\n"
     ]
    },
    {
     "data": {
      "text/plain": [
       "'John'"
      ]
     },
     "execution_count": 2,
     "metadata": {},
     "output_type": "execute_result"
    }
   ],
   "source": [
    "input('Enter the name: ')"
   ]
  },
  {
   "cell_type": "code",
   "execution_count": 3,
   "id": "e50c6000",
   "metadata": {},
   "outputs": [
    {
     "name": "stdout",
     "output_type": "stream",
     "text": [
      "Enter the name: Tom\n"
     ]
    }
   ],
   "source": [
    "name = input('Enter the name: ')"
   ]
  },
  {
   "cell_type": "code",
   "execution_count": 4,
   "id": "5632e141",
   "metadata": {},
   "outputs": [
    {
     "data": {
      "text/plain": [
       "'Tom'"
      ]
     },
     "execution_count": 4,
     "metadata": {},
     "output_type": "execute_result"
    }
   ],
   "source": [
    "name"
   ]
  },
  {
   "cell_type": "code",
   "execution_count": 5,
   "id": "3a4f7765",
   "metadata": {},
   "outputs": [
    {
     "data": {
      "text/plain": [
       "str"
      ]
     },
     "execution_count": 5,
     "metadata": {},
     "output_type": "execute_result"
    }
   ],
   "source": [
    "type(name)"
   ]
  },
  {
   "cell_type": "code",
   "execution_count": 8,
   "id": "6494331a",
   "metadata": {},
   "outputs": [
    {
     "name": "stdout",
     "output_type": "stream",
     "text": [
      "The name entered by the user is: Tom\n"
     ]
    }
   ],
   "source": [
    "print(\"The name entered by the user is: \"+name)"
   ]
  },
  {
   "cell_type": "code",
   "execution_count": 9,
   "id": "b1a51bd1",
   "metadata": {},
   "outputs": [],
   "source": [
    "num1 = 100"
   ]
  },
  {
   "cell_type": "code",
   "execution_count": 10,
   "id": "b27738b9",
   "metadata": {},
   "outputs": [
    {
     "ename": "TypeError",
     "evalue": "can only concatenate str (not \"int\") to str",
     "output_type": "error",
     "traceback": [
      "\u001b[1;31m---------------------------------------------------------------------------\u001b[0m",
      "\u001b[1;31mTypeError\u001b[0m                                 Traceback (most recent call last)",
      "\u001b[1;32m<ipython-input-10-8e03b15627e1>\u001b[0m in \u001b[0;36m<module>\u001b[1;34m\u001b[0m\n\u001b[1;32m----> 1\u001b[1;33m \u001b[0mprint\u001b[0m\u001b[1;33m(\u001b[0m\u001b[1;34m\"The value of num1 is : \"\u001b[0m\u001b[1;33m+\u001b[0m \u001b[0mnum1\u001b[0m\u001b[1;33m)\u001b[0m\u001b[1;33m\u001b[0m\u001b[1;33m\u001b[0m\u001b[0m\n\u001b[0m",
      "\u001b[1;31mTypeError\u001b[0m: can only concatenate str (not \"int\") to str"
     ]
    }
   ],
   "source": [
    "print(\"The value of num1 is : \"+ num1)"
   ]
  },
  {
   "cell_type": "code",
   "execution_count": 13,
   "id": "3b2ebf67",
   "metadata": {},
   "outputs": [
    {
     "name": "stdout",
     "output_type": "stream",
     "text": [
      "Enter 1st no: 4\n",
      "Enter 2nd no: 5\n"
     ]
    }
   ],
   "source": [
    "num1 = input(\"Enter 1st no: \")\n",
    "num2 = int(input(\"Enter 2nd no: \"))# way 1 to type cast or type conversion\n",
    "\n",
    "num1 =int(num1) # way 2 to type cast or type conversion"
   ]
  },
  {
   "cell_type": "code",
   "execution_count": 14,
   "id": "99803b39",
   "metadata": {},
   "outputs": [],
   "source": [
    "addition = num1+ num2"
   ]
  },
  {
   "cell_type": "code",
   "execution_count": 15,
   "id": "78108f3f",
   "metadata": {},
   "outputs": [
    {
     "data": {
      "text/plain": [
       "9"
      ]
     },
     "execution_count": 15,
     "metadata": {},
     "output_type": "execute_result"
    }
   ],
   "source": [
    "addition"
   ]
  },
  {
   "cell_type": "code",
   "execution_count": 18,
   "id": "bf8470ec",
   "metadata": {},
   "outputs": [
    {
     "name": "stdout",
     "output_type": "stream",
     "text": [
      "Addition  of  4 and 5 is : 9\n"
     ]
    }
   ],
   "source": [
    "print(\"Addition  of \", end= \" \")\n",
    "print(num1, end = \" \")\n",
    "print(\"and\", end = \" \")\n",
    "print(num2, end = ' ')\n",
    "print(\"is :\", end = ' ')\n",
    "print(addition)"
   ]
  },
  {
   "cell_type": "code",
   "execution_count": 19,
   "id": "c844ae78",
   "metadata": {},
   "outputs": [
    {
     "name": "stdout",
     "output_type": "stream",
     "text": [
      "Addition of 4 AND 5 is: 9\n"
     ]
    }
   ],
   "source": [
    "# FIRST METHOD OF FORMATTING BY USING ---> formart()\n",
    "print(\"Addition of {} AND {} is: {}\".format(num1,num2,addition) )"
   ]
  },
  {
   "cell_type": "code",
   "execution_count": 22,
   "id": "7ac08378",
   "metadata": {},
   "outputs": [
    {
     "name": "stdout",
     "output_type": "stream",
     "text": [
      "two numbers are 10 AND 20\n"
     ]
    }
   ],
   "source": [
    "print(\"two numbers are {Num1} AND {Num2}\".format(Num1=10,Num2= 20) )"
   ]
  },
  {
   "cell_type": "code",
   "execution_count": 23,
   "id": "da679635",
   "metadata": {},
   "outputs": [],
   "source": [
    "# Second method to format the string is by using f'String'"
   ]
  },
  {
   "cell_type": "code",
   "execution_count": 24,
   "id": "681ad570",
   "metadata": {},
   "outputs": [
    {
     "name": "stdout",
     "output_type": "stream",
     "text": [
      "Enter 1st no: 10\n",
      "Enter 2nd no: 20\n"
     ]
    }
   ],
   "source": [
    "num1 = input(\"Enter 1st no: \")\n",
    "num2 = int(input(\"Enter 2nd no: \"))# way 1 to type cast or type conversion\n",
    "\n",
    "num1 =int(num1) # way 2 to type cast or type conversion"
   ]
  },
  {
   "cell_type": "code",
   "execution_count": 25,
   "id": "faddbafd",
   "metadata": {},
   "outputs": [],
   "source": [
    "Result = num1+num2"
   ]
  },
  {
   "cell_type": "code",
   "execution_count": 26,
   "id": "16a13beb",
   "metadata": {},
   "outputs": [
    {
     "data": {
      "text/plain": [
       "30"
      ]
     },
     "execution_count": 26,
     "metadata": {},
     "output_type": "execute_result"
    }
   ],
   "source": [
    "Result"
   ]
  },
  {
   "cell_type": "code",
   "execution_count": 27,
   "id": "db84a55b",
   "metadata": {},
   "outputs": [
    {
     "name": "stdout",
     "output_type": "stream",
     "text": [
      "Addition of 10 and 20 is: 30\n"
     ]
    }
   ],
   "source": [
    "print(f'Addition of {num1} and {num2} is: {Result}')"
   ]
  },
  {
   "cell_type": "code",
   "execution_count": 28,
   "id": "0457212e",
   "metadata": {},
   "outputs": [
    {
     "data": {
      "text/plain": [
       "\"\\nOperators in python8\\nArithmetic operators---> +,-,*,/, \\n** ---> Exponential operator 2**3 ---> it will return the 2's power to 3 ---> 2*2*2 =8\\n\\n// ---> Floor division 1.1, 1.9---> retuenthe value 1\\n\\n% ----> Modulus operator---> returns remainder of the division operation 5%2 ---> divide the numbers and return remainder\\n\\n\""
      ]
     },
     "execution_count": 28,
     "metadata": {},
     "output_type": "execute_result"
    }
   ],
   "source": [
    "\"\"\"\n",
    "Operators in python\n",
    "\n",
    "Arithmetic operators---> +,-,*,/, \n",
    "** ---> Exponential operator 2**3 ---> it will return the 2's power to 3 ---> 2*2*2 =8\n",
    "\n",
    "// ---> Floor division 1.1, 1.9---> retuenthe value 1\n",
    "\n",
    "% ----> Modulus operator---> returns remainder of the division operation 5%2 ---> divide the numbers and return remainder\n",
    "\n",
    "\"\"\"\n"
   ]
  },
  {
   "cell_type": "code",
   "execution_count": 29,
   "id": "5a833eb3",
   "metadata": {},
   "outputs": [
    {
     "data": {
      "text/plain": [
       "7"
      ]
     },
     "execution_count": 29,
     "metadata": {},
     "output_type": "execute_result"
    }
   ],
   "source": [
    "2+5"
   ]
  },
  {
   "cell_type": "code",
   "execution_count": 30,
   "id": "fdd437bc",
   "metadata": {},
   "outputs": [
    {
     "data": {
      "text/plain": [
       "-5"
      ]
     },
     "execution_count": 30,
     "metadata": {},
     "output_type": "execute_result"
    }
   ],
   "source": [
    "2-7"
   ]
  },
  {
   "cell_type": "code",
   "execution_count": 31,
   "id": "66788dcf",
   "metadata": {},
   "outputs": [
    {
     "data": {
      "text/plain": [
       "2.5"
      ]
     },
     "execution_count": 31,
     "metadata": {},
     "output_type": "execute_result"
    }
   ],
   "source": [
    "5/2"
   ]
  },
  {
   "cell_type": "code",
   "execution_count": 32,
   "id": "2f564fc2",
   "metadata": {},
   "outputs": [
    {
     "data": {
      "text/plain": [
       "2"
      ]
     },
     "execution_count": 32,
     "metadata": {},
     "output_type": "execute_result"
    }
   ],
   "source": [
    "5//2 # floor division"
   ]
  },
  {
   "cell_type": "code",
   "execution_count": 35,
   "id": "7f93d021",
   "metadata": {},
   "outputs": [
    {
     "data": {
      "text/plain": [
       "2.7777777777777777"
      ]
     },
     "execution_count": 35,
     "metadata": {},
     "output_type": "execute_result"
    }
   ],
   "source": [
    "25/9"
   ]
  },
  {
   "cell_type": "code",
   "execution_count": 36,
   "id": "695a95de",
   "metadata": {},
   "outputs": [
    {
     "data": {
      "text/plain": [
       "2"
      ]
     },
     "execution_count": 36,
     "metadata": {},
     "output_type": "execute_result"
    }
   ],
   "source": [
    "25//9"
   ]
  },
  {
   "cell_type": "code",
   "execution_count": 37,
   "id": "19c0204a",
   "metadata": {},
   "outputs": [
    {
     "data": {
      "text/plain": [
       "1"
      ]
     },
     "execution_count": 37,
     "metadata": {},
     "output_type": "execute_result"
    }
   ],
   "source": [
    "5%2"
   ]
  },
  {
   "cell_type": "code",
   "execution_count": 38,
   "id": "d1799a8c",
   "metadata": {},
   "outputs": [
    {
     "data": {
      "text/plain": [
       "25"
      ]
     },
     "execution_count": 38,
     "metadata": {},
     "output_type": "execute_result"
    }
   ],
   "source": [
    "5**2"
   ]
  },
  {
   "cell_type": "code",
   "execution_count": 39,
   "id": "fed30a1c",
   "metadata": {},
   "outputs": [
    {
     "data": {
      "text/plain": [
       "8"
      ]
     },
     "execution_count": 39,
     "metadata": {},
     "output_type": "execute_result"
    }
   ],
   "source": [
    "2**3"
   ]
  },
  {
   "cell_type": "code",
   "execution_count": null,
   "id": "34c4bb37",
   "metadata": {},
   "outputs": [],
   "source": [
    "# Assignment Operators =,+=,-=,/=,*=,//=,**=,%="
   ]
  },
  {
   "cell_type": "code",
   "execution_count": 40,
   "id": "dc066e37",
   "metadata": {},
   "outputs": [],
   "source": [
    "no1 = 2\n",
    "no2 = 5"
   ]
  },
  {
   "cell_type": "code",
   "execution_count": 41,
   "id": "1a36d6e0",
   "metadata": {},
   "outputs": [],
   "source": [
    "c= no1+no2"
   ]
  },
  {
   "cell_type": "code",
   "execution_count": 42,
   "id": "fc6acf45",
   "metadata": {},
   "outputs": [
    {
     "data": {
      "text/plain": [
       "7"
      ]
     },
     "execution_count": 42,
     "metadata": {},
     "output_type": "execute_result"
    }
   ],
   "source": [
    "c"
   ]
  },
  {
   "cell_type": "code",
   "execution_count": 43,
   "id": "6229d468",
   "metadata": {},
   "outputs": [],
   "source": [
    "no1+=no2  # this will add no1, no2 and stores the rusult back to the no1"
   ]
  },
  {
   "cell_type": "code",
   "execution_count": 44,
   "id": "8b372f1c",
   "metadata": {},
   "outputs": [
    {
     "data": {
      "text/plain": [
       "7"
      ]
     },
     "execution_count": 44,
     "metadata": {},
     "output_type": "execute_result"
    }
   ],
   "source": [
    "no1"
   ]
  },
  {
   "cell_type": "code",
   "execution_count": 45,
   "id": "9e8323ac",
   "metadata": {},
   "outputs": [],
   "source": [
    "no1 -= no2"
   ]
  },
  {
   "cell_type": "code",
   "execution_count": 46,
   "id": "3a6f3338",
   "metadata": {},
   "outputs": [
    {
     "data": {
      "text/plain": [
       "2"
      ]
     },
     "execution_count": 46,
     "metadata": {},
     "output_type": "execute_result"
    }
   ],
   "source": [
    "no1"
   ]
  },
  {
   "cell_type": "code",
   "execution_count": 47,
   "id": "d30f2489",
   "metadata": {},
   "outputs": [
    {
     "data": {
      "text/plain": [
       "5"
      ]
     },
     "execution_count": 47,
     "metadata": {},
     "output_type": "execute_result"
    }
   ],
   "source": [
    "no2"
   ]
  },
  {
   "cell_type": "code",
   "execution_count": 48,
   "id": "f47205fd",
   "metadata": {},
   "outputs": [],
   "source": [
    "no2**=no1"
   ]
  },
  {
   "cell_type": "code",
   "execution_count": 49,
   "id": "4ba08221",
   "metadata": {},
   "outputs": [
    {
     "data": {
      "text/plain": [
       "25"
      ]
     },
     "execution_count": 49,
     "metadata": {},
     "output_type": "execute_result"
    }
   ],
   "source": [
    "no2"
   ]
  },
  {
   "cell_type": "code",
   "execution_count": 50,
   "id": "5342f675",
   "metadata": {},
   "outputs": [
    {
     "data": {
      "text/plain": [
       "'\\nLogical operators\\n1. AND ---> &&\\n2. OR ----> ||\\n3. NOT ---> !\\n\\n0=False, 1=True\\n\\nAND\\n0 && 0--> 0\\n1 && 0--> 0\\n0 && 1--> 0\\n1 && 1--> 1\\n\\nOR\\n0 || 0--> 0\\n1 || 0--> 1\\n0 || 1--> 1\\n1 || 1--> 1\\n\\n!0--> True if value is not 0\\n!1--> True if value is not 1\\n\\n'"
      ]
     },
     "execution_count": 50,
     "metadata": {},
     "output_type": "execute_result"
    }
   ],
   "source": [
    "\"\"\"\n",
    "Logical operators\n",
    "1. AND ---> &&\n",
    "2. OR ----> ||\n",
    "3. NOT ---> !\n",
    "\n",
    "0=False, 1=True\n",
    "\n",
    "AND\n",
    "0 and 0--> 0\n",
    "1 and 0--> 0\n",
    "0 and 1--> 0\n",
    "1 and 1--> 1\n",
    "\n",
    "OR\n",
    "0 or 0--> 0\n",
    "1 or 0--> 1\n",
    "0 or 1--> 1\n",
    "1 or 1--> 1\n",
    "\n",
    "not 0--> True if value is not 0\n",
    "not 1--> True if value is not 1\n",
    "\n",
    "\"\"\"\n"
   ]
  },
  {
   "cell_type": "code",
   "execution_count": 56,
   "id": "6e86b36e",
   "metadata": {},
   "outputs": [
    {
     "data": {
      "text/plain": [
       "True"
      ]
     },
     "execution_count": 56,
     "metadata": {},
     "output_type": "execute_result"
    }
   ],
   "source": [
    "True and True"
   ]
  },
  {
   "cell_type": "code",
   "execution_count": 57,
   "id": "8ddddf07",
   "metadata": {},
   "outputs": [
    {
     "data": {
      "text/plain": [
       "False"
      ]
     },
     "execution_count": 57,
     "metadata": {},
     "output_type": "execute_result"
    }
   ],
   "source": [
    "True and False"
   ]
  },
  {
   "cell_type": "code",
   "execution_count": 58,
   "id": "0dc1ecff",
   "metadata": {},
   "outputs": [
    {
     "data": {
      "text/plain": [
       "False"
      ]
     },
     "execution_count": 58,
     "metadata": {},
     "output_type": "execute_result"
    }
   ],
   "source": [
    "False and True"
   ]
  },
  {
   "cell_type": "code",
   "execution_count": 59,
   "id": "16435a9c",
   "metadata": {},
   "outputs": [
    {
     "data": {
      "text/plain": [
       "False"
      ]
     },
     "execution_count": 59,
     "metadata": {},
     "output_type": "execute_result"
    }
   ],
   "source": [
    "False and False "
   ]
  },
  {
   "cell_type": "code",
   "execution_count": 66,
   "id": "c7852e1c",
   "metadata": {},
   "outputs": [
    {
     "data": {
      "text/plain": [
       "0"
      ]
     },
     "execution_count": 66,
     "metadata": {},
     "output_type": "execute_result"
    }
   ],
   "source": [
    "0 and 5"
   ]
  },
  {
   "cell_type": "code",
   "execution_count": 68,
   "id": "189636a9",
   "metadata": {},
   "outputs": [
    {
     "data": {
      "text/plain": [
       "-1"
      ]
     },
     "execution_count": 68,
     "metadata": {},
     "output_type": "execute_result"
    }
   ],
   "source": [
    "1 and -1"
   ]
  },
  {
   "cell_type": "code",
   "execution_count": 69,
   "id": "43015128",
   "metadata": {},
   "outputs": [
    {
     "data": {
      "text/plain": [
       "True"
      ]
     },
     "execution_count": 69,
     "metadata": {},
     "output_type": "execute_result"
    }
   ],
   "source": [
    "True or False"
   ]
  },
  {
   "cell_type": "code",
   "execution_count": 70,
   "id": "5078c28b",
   "metadata": {},
   "outputs": [
    {
     "data": {
      "text/plain": [
       "False"
      ]
     },
     "execution_count": 70,
     "metadata": {},
     "output_type": "execute_result"
    }
   ],
   "source": [
    "False or False "
   ]
  },
  {
   "cell_type": "code",
   "execution_count": 71,
   "id": "77844f01",
   "metadata": {},
   "outputs": [
    {
     "data": {
      "text/plain": [
       "False"
      ]
     },
     "execution_count": 71,
     "metadata": {},
     "output_type": "execute_result"
    }
   ],
   "source": [
    "not True"
   ]
  },
  {
   "cell_type": "code",
   "execution_count": 72,
   "id": "ae846f00",
   "metadata": {},
   "outputs": [
    {
     "data": {
      "text/plain": [
       "True"
      ]
     },
     "execution_count": 72,
     "metadata": {},
     "output_type": "execute_result"
    }
   ],
   "source": [
    "not False"
   ]
  },
  {
   "cell_type": "code",
   "execution_count": null,
   "id": "2d45255a",
   "metadata": {},
   "outputs": [],
   "source": []
  },
  {
   "cell_type": "code",
   "execution_count": 73,
   "id": "5264f806",
   "metadata": {},
   "outputs": [],
   "source": [
    "# Relational Operators <, >, <=, >=, ==, !=\n"
   ]
  },
  {
   "cell_type": "code",
   "execution_count": 74,
   "id": "53f7e5fd",
   "metadata": {},
   "outputs": [
    {
     "data": {
      "text/plain": [
       "False"
      ]
     },
     "execution_count": 74,
     "metadata": {},
     "output_type": "execute_result"
    }
   ],
   "source": [
    "1==2"
   ]
  },
  {
   "cell_type": "code",
   "execution_count": 75,
   "id": "f3b7d1ce",
   "metadata": {},
   "outputs": [
    {
     "data": {
      "text/plain": [
       "True"
      ]
     },
     "execution_count": 75,
     "metadata": {},
     "output_type": "execute_result"
    }
   ],
   "source": [
    "2==2"
   ]
  },
  {
   "cell_type": "code",
   "execution_count": 76,
   "id": "46a03ddf",
   "metadata": {},
   "outputs": [
    {
     "data": {
      "text/plain": [
       "True"
      ]
     },
     "execution_count": 76,
     "metadata": {},
     "output_type": "execute_result"
    }
   ],
   "source": [
    "3<6"
   ]
  },
  {
   "cell_type": "code",
   "execution_count": 77,
   "id": "da463f05",
   "metadata": {},
   "outputs": [
    {
     "data": {
      "text/plain": [
       "False"
      ]
     },
     "execution_count": 77,
     "metadata": {},
     "output_type": "execute_result"
    }
   ],
   "source": [
    "3>6"
   ]
  },
  {
   "cell_type": "code",
   "execution_count": 78,
   "id": "e297a076",
   "metadata": {},
   "outputs": [
    {
     "data": {
      "text/plain": [
       "True"
      ]
     },
     "execution_count": 78,
     "metadata": {},
     "output_type": "execute_result"
    }
   ],
   "source": [
    "5!=4"
   ]
  },
  {
   "cell_type": "code",
   "execution_count": 79,
   "id": "0bb3c970",
   "metadata": {},
   "outputs": [
    {
     "data": {
      "text/plain": [
       "True"
      ]
     },
     "execution_count": 79,
     "metadata": {},
     "output_type": "execute_result"
    }
   ],
   "source": [
    "3<=3"
   ]
  },
  {
   "cell_type": "code",
   "execution_count": 80,
   "id": "c4e1e644",
   "metadata": {},
   "outputs": [
    {
     "data": {
      "text/plain": [
       "False"
      ]
     },
     "execution_count": 80,
     "metadata": {},
     "output_type": "execute_result"
    }
   ],
   "source": [
    "3<3"
   ]
  },
  {
   "cell_type": "code",
   "execution_count": 81,
   "id": "a05ab51b",
   "metadata": {},
   "outputs": [],
   "source": [
    "# Bitwise operators: &, |, ^, <<, >>"
   ]
  },
  {
   "cell_type": "code",
   "execution_count": 95,
   "id": "6615a88b",
   "metadata": {},
   "outputs": [
    {
     "data": {
      "text/plain": [
       "1"
      ]
     },
     "execution_count": 95,
     "metadata": {},
     "output_type": "execute_result"
    }
   ],
   "source": [
    "1 & 1"
   ]
  },
  {
   "cell_type": "code",
   "execution_count": 96,
   "id": "5d2b52b9",
   "metadata": {},
   "outputs": [
    {
     "data": {
      "text/plain": [
       "0"
      ]
     },
     "execution_count": 96,
     "metadata": {},
     "output_type": "execute_result"
    }
   ],
   "source": [
    "1 & 0"
   ]
  },
  {
   "cell_type": "code",
   "execution_count": 97,
   "id": "5a7a5298",
   "metadata": {},
   "outputs": [
    {
     "data": {
      "text/plain": [
       "0"
      ]
     },
     "execution_count": 97,
     "metadata": {},
     "output_type": "execute_result"
    }
   ],
   "source": [
    "0 | 0"
   ]
  },
  {
   "cell_type": "code",
   "execution_count": 84,
   "id": "bbea6085",
   "metadata": {},
   "outputs": [
    {
     "data": {
      "text/plain": [
       "1"
      ]
     },
     "execution_count": 84,
     "metadata": {},
     "output_type": "execute_result"
    }
   ],
   "source": [
    "1 | 0"
   ]
  },
  {
   "cell_type": "code",
   "execution_count": 99,
   "id": "09bb74a4",
   "metadata": {},
   "outputs": [
    {
     "data": {
      "text/plain": [
       "1"
      ]
     },
     "execution_count": 99,
     "metadata": {},
     "output_type": "execute_result"
    }
   ],
   "source": [
    "0^1"
   ]
  },
  {
   "cell_type": "code",
   "execution_count": null,
   "id": "b72db21a",
   "metadata": {
    "scrolled": true
   },
   "outputs": [],
   "source": []
  },
  {
   "cell_type": "code",
   "execution_count": 89,
   "id": "7f37e9b9",
   "metadata": {},
   "outputs": [
    {
     "data": {
      "text/plain": [
       "16"
      ]
     },
     "execution_count": 89,
     "metadata": {},
     "output_type": "execute_result"
    }
   ],
   "source": [
    "2<<3"
   ]
  },
  {
   "cell_type": "code",
   "execution_count": 90,
   "id": "1163619e",
   "metadata": {},
   "outputs": [
    {
     "data": {
      "text/plain": [
       "'\\n2 binary ---> 10\\n\\n10<<3---> 10000\\n\\n'"
      ]
     },
     "execution_count": 90,
     "metadata": {},
     "output_type": "execute_result"
    }
   ],
   "source": [
    "'''\n",
    "2 binary ---> 10\n",
    "\n",
    "10<<3---> 10000\n",
    "\n",
    "'''"
   ]
  },
  {
   "cell_type": "code",
   "execution_count": 91,
   "id": "d55e0b6e",
   "metadata": {},
   "outputs": [
    {
     "data": {
      "text/plain": [
       "4"
      ]
     },
     "execution_count": 91,
     "metadata": {},
     "output_type": "execute_result"
    }
   ],
   "source": [
    "16>>2"
   ]
  },
  {
   "cell_type": "code",
   "execution_count": null,
   "id": "c4491a14",
   "metadata": {},
   "outputs": [],
   "source": [
    "'''\n",
    "16--> binary---> 10000\n",
    "16>>2\n",
    "\n",
    "10000---> 100\n",
    "\n",
    "'''"
   ]
  },
  {
   "cell_type": "code",
   "execution_count": null,
   "id": "659706ab",
   "metadata": {},
   "outputs": [],
   "source": []
  },
  {
   "cell_type": "code",
   "execution_count": null,
   "id": "2ea5d688",
   "metadata": {},
   "outputs": [],
   "source": []
  },
  {
   "cell_type": "code",
   "execution_count": null,
   "id": "7d6ed634",
   "metadata": {},
   "outputs": [],
   "source": []
  },
  {
   "cell_type": "code",
   "execution_count": null,
   "id": "7821f5f3",
   "metadata": {},
   "outputs": [],
   "source": []
  }
 ],
 "metadata": {
  "kernelspec": {
   "display_name": "Python 3",
   "language": "python",
   "name": "python3"
  },
  "language_info": {
   "codemirror_mode": {
    "name": "ipython",
    "version": 3
   },
   "file_extension": ".py",
   "mimetype": "text/x-python",
   "name": "python",
   "nbconvert_exporter": "python",
   "pygments_lexer": "ipython3",
   "version": "3.8.8"
  }
 },
 "nbformat": 4,
 "nbformat_minor": 5
}
