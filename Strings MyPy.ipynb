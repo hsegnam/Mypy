{
 "cells": [
  {
   "cell_type": "code",
   "execution_count": 2,
   "id": "93b654a4",
   "metadata": {},
   "outputs": [],
   "source": [
    "# String is a collection of sequential charaters\n",
    "# String is immutable\n",
    "# It's a default type for console input/ command line input\n",
    "# Syntax ---> stringVar = 'Srting' or \"String\"\n",
    "# we can define multiline string as well by using ''' ''' or \"\"\" \"\"\""
   ]
  },
  {
   "cell_type": "code",
   "execution_count": 2,
   "id": "9ddbc96d",
   "metadata": {},
   "outputs": [],
   "source": [
    "str1 = 'Hello Everyone, welcome to Python!'"
   ]
  },
  {
   "cell_type": "code",
   "execution_count": 3,
   "id": "134d2fea",
   "metadata": {},
   "outputs": [
    {
     "data": {
      "text/plain": [
       "'Hello Everyone, welcome to Python!'"
      ]
     },
     "execution_count": 3,
     "metadata": {},
     "output_type": "execute_result"
    }
   ],
   "source": [
    "str1"
   ]
  },
  {
   "cell_type": "code",
   "execution_count": 9,
   "id": "af4c7b7e",
   "metadata": {},
   "outputs": [],
   "source": [
    "str2 = \"I Don't like coke\""
   ]
  },
  {
   "cell_type": "code",
   "execution_count": 10,
   "id": "a5c6ae1e",
   "metadata": {},
   "outputs": [
    {
     "data": {
      "text/plain": [
       "\"I Don't like coke\""
      ]
     },
     "execution_count": 10,
     "metadata": {},
     "output_type": "execute_result"
    }
   ],
   "source": [
    "str2"
   ]
  },
  {
   "cell_type": "code",
   "execution_count": 11,
   "id": "c5d168d8",
   "metadata": {},
   "outputs": [],
   "source": [
    "str3 = 'He said, \"I do not like coke\"'"
   ]
  },
  {
   "cell_type": "code",
   "execution_count": 12,
   "id": "f00367b6",
   "metadata": {},
   "outputs": [
    {
     "data": {
      "text/plain": [
       "'He said, \"I do not like coke\"'"
      ]
     },
     "execution_count": 12,
     "metadata": {},
     "output_type": "execute_result"
    }
   ],
   "source": [
    "str3"
   ]
  },
  {
   "cell_type": "code",
   "execution_count": 14,
   "id": "f8e9403c",
   "metadata": {},
   "outputs": [],
   "source": [
    "strtiple = ''' He said, \"I don't like Coke.\" '''"
   ]
  },
  {
   "cell_type": "code",
   "execution_count": 21,
   "id": "48b094b0",
   "metadata": {},
   "outputs": [],
   "source": [
    "strTriple = \"\"\"He said \"I don't like Coke\". \"\"\""
   ]
  },
  {
   "cell_type": "code",
   "execution_count": 22,
   "id": "552e811b",
   "metadata": {},
   "outputs": [
    {
     "data": {
      "text/plain": [
       "' He said, \"I don\\'t like Coke.\" '"
      ]
     },
     "execution_count": 22,
     "metadata": {},
     "output_type": "execute_result"
    }
   ],
   "source": [
    "strtiple"
   ]
  },
  {
   "cell_type": "code",
   "execution_count": 23,
   "id": "9f326ca8",
   "metadata": {},
   "outputs": [
    {
     "data": {
      "text/plain": [
       "'He said \"I don\\'t like Coke\". '"
      ]
     },
     "execution_count": 23,
     "metadata": {},
     "output_type": "execute_result"
    }
   ],
   "source": [
    "strTriple"
   ]
  },
  {
   "cell_type": "code",
   "execution_count": 24,
   "id": "b5d98342",
   "metadata": {},
   "outputs": [
    {
     "data": {
      "text/plain": [
       "1389808150128"
      ]
     },
     "execution_count": 24,
     "metadata": {},
     "output_type": "execute_result"
    }
   ],
   "source": [
    "id(strTriple)"
   ]
  },
  {
   "cell_type": "code",
   "execution_count": 25,
   "id": "40872b56",
   "metadata": {},
   "outputs": [
    {
     "data": {
      "text/plain": [
       "1389807515328"
      ]
     },
     "execution_count": 25,
     "metadata": {},
     "output_type": "execute_result"
    }
   ],
   "source": [
    "id(strtiple)"
   ]
  },
  {
   "cell_type": "code",
   "execution_count": 26,
   "id": "0980ccbc",
   "metadata": {},
   "outputs": [],
   "source": [
    "str5= 'Don\\'t'"
   ]
  },
  {
   "cell_type": "code",
   "execution_count": 27,
   "id": "75f355e5",
   "metadata": {},
   "outputs": [
    {
     "data": {
      "text/plain": [
       "\"Don't\""
      ]
     },
     "execution_count": 27,
     "metadata": {},
     "output_type": "execute_result"
    }
   ],
   "source": [
    "str5"
   ]
  },
  {
   "cell_type": "code",
   "execution_count": 29,
   "id": "1c608c4e",
   "metadata": {},
   "outputs": [],
   "source": [
    "str6 = \"He said \\\"nothing\\\"\""
   ]
  },
  {
   "cell_type": "code",
   "execution_count": 30,
   "id": "0b7102e4",
   "metadata": {},
   "outputs": [
    {
     "data": {
      "text/plain": [
       "'He said \"nothing\"'"
      ]
     },
     "execution_count": 30,
     "metadata": {},
     "output_type": "execute_result"
    }
   ],
   "source": [
    "str6"
   ]
  },
  {
   "cell_type": "code",
   "execution_count": 31,
   "id": "6a61d2b7",
   "metadata": {},
   "outputs": [],
   "source": [
    "name = \"Python\""
   ]
  },
  {
   "cell_type": "code",
   "execution_count": 35,
   "id": "cf4d77a9",
   "metadata": {},
   "outputs": [
    {
     "data": {
      "text/plain": [
       "'h'"
      ]
     },
     "execution_count": 35,
     "metadata": {},
     "output_type": "execute_result"
    }
   ],
   "source": [
    "name[3]"
   ]
  },
  {
   "cell_type": "code",
   "execution_count": 36,
   "id": "d5024c13",
   "metadata": {},
   "outputs": [
    {
     "data": {
      "text/plain": [
       "6"
      ]
     },
     "execution_count": 36,
     "metadata": {},
     "output_type": "execute_result"
    }
   ],
   "source": [
    "len(name)# Operstes on List, Tuple, Dict"
   ]
  },
  {
   "cell_type": "code",
   "execution_count": 37,
   "id": "70ea2548",
   "metadata": {},
   "outputs": [],
   "source": [
    "name = \"Java\""
   ]
  },
  {
   "cell_type": "code",
   "execution_count": 38,
   "id": "af1a184d",
   "metadata": {},
   "outputs": [
    {
     "data": {
      "text/plain": [
       "'Java'"
      ]
     },
     "execution_count": 38,
     "metadata": {},
     "output_type": "execute_result"
    }
   ],
   "source": [
    "name"
   ]
  },
  {
   "cell_type": "code",
   "execution_count": 55,
   "id": "5b21f908",
   "metadata": {},
   "outputs": [],
   "source": [
    "srtmulti = \"\"\"this \n",
    "is \n",
    "the \n",
    "demo of \n",
    "multi line \n",
    "string in python\n",
    "\n",
    "\"\"\""
   ]
  },
  {
   "cell_type": "code",
   "execution_count": 56,
   "id": "826c2043",
   "metadata": {},
   "outputs": [
    {
     "data": {
      "text/plain": [
       "'this \\nis \\nthe \\ndemo of \\nmulti line \\nstring in python\\n\\n'"
      ]
     },
     "execution_count": 56,
     "metadata": {},
     "output_type": "execute_result"
    }
   ],
   "source": [
    "srtmulti"
   ]
  },
  {
   "cell_type": "code",
   "execution_count": 42,
   "id": "44ffd943",
   "metadata": {},
   "outputs": [
    {
     "name": "stdout",
     "output_type": "stream",
     "text": [
      " this \n",
      "is \n",
      "the \n",
      "demo of \n",
      "multi line \n",
      "string in python\n",
      "\n",
      "\n"
     ]
    }
   ],
   "source": [
    "print(srtmulti)"
   ]
  },
  {
   "cell_type": "code",
   "execution_count": 44,
   "id": "08b1166f",
   "metadata": {},
   "outputs": [
    {
     "data": {
      "text/plain": [
       "'Hello Everyone, welcome to Python!'"
      ]
     },
     "execution_count": 44,
     "metadata": {},
     "output_type": "execute_result"
    }
   ],
   "source": [
    "str1"
   ]
  },
  {
   "cell_type": "code",
   "execution_count": 4,
   "id": "fc3729c4",
   "metadata": {},
   "outputs": [
    {
     "data": {
      "text/plain": [
       "True"
      ]
     },
     "execution_count": 4,
     "metadata": {},
     "output_type": "execute_result"
    }
   ],
   "source": [
    "str1.startswith('Hello') # it checks if the string is starting with the provided argument or not"
   ]
  },
  {
   "cell_type": "code",
   "execution_count": 52,
   "id": "828d3946",
   "metadata": {},
   "outputs": [
    {
     "data": {
      "text/plain": [
       "False"
      ]
     },
     "execution_count": 52,
     "metadata": {},
     "output_type": "execute_result"
    }
   ],
   "source": [
    "str1.endswith('Python')"
   ]
  },
  {
   "cell_type": "code",
   "execution_count": 53,
   "id": "7d9a42fa",
   "metadata": {},
   "outputs": [
    {
     "data": {
      "text/plain": [
       "'Hello everyone, welcome to python!'"
      ]
     },
     "execution_count": 53,
     "metadata": {},
     "output_type": "execute_result"
    }
   ],
   "source": [
    "str1.capitalize()"
   ]
  },
  {
   "cell_type": "code",
   "execution_count": 57,
   "id": "2bcd79c1",
   "metadata": {},
   "outputs": [
    {
     "data": {
      "text/plain": [
       "'This \\nis \\nthe \\ndemo of \\nmulti line \\nstring in python\\n\\n'"
      ]
     },
     "execution_count": 57,
     "metadata": {},
     "output_type": "execute_result"
    }
   ],
   "source": [
    "srtmulti.capitalize()"
   ]
  },
  {
   "cell_type": "code",
   "execution_count": 58,
   "id": "50efb321",
   "metadata": {},
   "outputs": [
    {
     "data": {
      "text/plain": [
       "'hello everyone, welcome to python!'"
      ]
     },
     "execution_count": 58,
     "metadata": {},
     "output_type": "execute_result"
    }
   ],
   "source": [
    "str1.casefold()"
   ]
  },
  {
   "cell_type": "code",
   "execution_count": 60,
   "id": "a37d035c",
   "metadata": {},
   "outputs": [],
   "source": [
    "s1 = 'PyThOn'"
   ]
  },
  {
   "cell_type": "code",
   "execution_count": 61,
   "id": "9edf6a55",
   "metadata": {},
   "outputs": [],
   "source": [
    "s2 = 'pYtHoN'"
   ]
  },
  {
   "cell_type": "code",
   "execution_count": 62,
   "id": "f5e4aa43",
   "metadata": {},
   "outputs": [
    {
     "data": {
      "text/plain": [
       "False"
      ]
     },
     "execution_count": 62,
     "metadata": {},
     "output_type": "execute_result"
    }
   ],
   "source": [
    "s1==s2"
   ]
  },
  {
   "cell_type": "code",
   "execution_count": 66,
   "id": "2b170862",
   "metadata": {},
   "outputs": [
    {
     "data": {
      "text/plain": [
       "'python'"
      ]
     },
     "execution_count": 66,
     "metadata": {},
     "output_type": "execute_result"
    }
   ],
   "source": [
    "s1.casefold()"
   ]
  },
  {
   "cell_type": "code",
   "execution_count": 67,
   "id": "63533f45",
   "metadata": {},
   "outputs": [
    {
     "data": {
      "text/plain": [
       "'python'"
      ]
     },
     "execution_count": 67,
     "metadata": {},
     "output_type": "execute_result"
    }
   ],
   "source": [
    "s2.casefold()"
   ]
  },
  {
   "cell_type": "code",
   "execution_count": 69,
   "id": "ac71afe1",
   "metadata": {},
   "outputs": [
    {
     "data": {
      "text/plain": [
       "'                                               PyThOn                                               '"
      ]
     },
     "execution_count": 69,
     "metadata": {},
     "output_type": "execute_result"
    }
   ],
   "source": [
    "s1.center(100)"
   ]
  },
  {
   "cell_type": "code",
   "execution_count": 76,
   "id": "b288b64a",
   "metadata": {},
   "outputs": [],
   "source": [
    "s3 = \"this\\tis\\tdemo\""
   ]
  },
  {
   "cell_type": "code",
   "execution_count": 79,
   "id": "7f8737ea",
   "metadata": {},
   "outputs": [
    {
     "data": {
      "text/plain": [
       "'this           is             demo'"
      ]
     },
     "execution_count": 79,
     "metadata": {},
     "output_type": "execute_result"
    }
   ],
   "source": [
    "s3.expandtabs(tabsize=15)"
   ]
  },
  {
   "cell_type": "code",
   "execution_count": 80,
   "id": "6aa8584f",
   "metadata": {},
   "outputs": [
    {
     "data": {
      "text/plain": [
       "'this    is      demo'"
      ]
     },
     "execution_count": 80,
     "metadata": {},
     "output_type": "execute_result"
    }
   ],
   "source": [
    "    'this    is      demo'\n"
   ]
  },
  {
   "cell_type": "code",
   "execution_count": 81,
   "id": "36bab99a",
   "metadata": {},
   "outputs": [
    {
     "data": {
      "text/plain": [
       "'Hello Everyone, welcome to Python!'"
      ]
     },
     "execution_count": 81,
     "metadata": {},
     "output_type": "execute_result"
    }
   ],
   "source": [
    "str1"
   ]
  },
  {
   "cell_type": "code",
   "execution_count": 85,
   "id": "5894f796",
   "metadata": {},
   "outputs": [
    {
     "data": {
      "text/plain": [
       "11"
      ]
     },
     "execution_count": 85,
     "metadata": {},
     "output_type": "execute_result"
    }
   ],
   "source": [
    "str1.find('one',0,20)"
   ]
  },
  {
   "cell_type": "code",
   "execution_count": 91,
   "id": "4fc60b7d",
   "metadata": {},
   "outputs": [
    {
     "data": {
      "text/plain": [
       "4"
      ]
     },
     "execution_count": 91,
     "metadata": {},
     "output_type": "execute_result"
    }
   ],
   "source": [
    "str1.index('o')"
   ]
  },
  {
   "cell_type": "code",
   "execution_count": 106,
   "id": "256a5b3d",
   "metadata": {},
   "outputs": [
    {
     "data": {
      "text/plain": [
       "False"
      ]
     },
     "execution_count": 106,
     "metadata": {},
     "output_type": "execute_result"
    }
   ],
   "source": [
    "str1.isalnum() # Returns true only if we have strict combination  of both alphebets and numbers \n",
    "#or just apha and nums in the string"
   ]
  },
  {
   "cell_type": "code",
   "execution_count": 139,
   "id": "fd571e2d",
   "metadata": {},
   "outputs": [],
   "source": [
    "s3 = \"1.1\""
   ]
  },
  {
   "cell_type": "code",
   "execution_count": 140,
   "id": "d5b168ff",
   "metadata": {},
   "outputs": [
    {
     "data": {
      "text/plain": [
       "False"
      ]
     },
     "execution_count": 140,
     "metadata": {},
     "output_type": "execute_result"
    }
   ],
   "source": [
    "s3.isalpha()# checks if only aplhbets"
   ]
  },
  {
   "cell_type": "code",
   "execution_count": 141,
   "id": "52a75ce6",
   "metadata": {},
   "outputs": [
    {
     "data": {
      "text/plain": [
       "False"
      ]
     },
     "execution_count": 141,
     "metadata": {},
     "output_type": "execute_result"
    }
   ],
   "source": [
    "s3.isdigit()"
   ]
  },
  {
   "cell_type": "code",
   "execution_count": 142,
   "id": "a82c85d0",
   "metadata": {},
   "outputs": [
    {
     "data": {
      "text/plain": [
       "False"
      ]
     },
     "execution_count": 142,
     "metadata": {},
     "output_type": "execute_result"
    }
   ],
   "source": [
    "s3.isidentifier()"
   ]
  },
  {
   "cell_type": "code",
   "execution_count": 143,
   "id": "90fff3d9",
   "metadata": {},
   "outputs": [
    {
     "data": {
      "text/plain": [
       "False"
      ]
     },
     "execution_count": 143,
     "metadata": {},
     "output_type": "execute_result"
    }
   ],
   "source": [
    "s3.isdecimal()# decimal type of value or not"
   ]
  },
  {
   "cell_type": "code",
   "execution_count": 145,
   "id": "16b24c96",
   "metadata": {},
   "outputs": [],
   "source": [
    "s4 = \"1A\""
   ]
  },
  {
   "cell_type": "code",
   "execution_count": 146,
   "id": "6fe414d8",
   "metadata": {},
   "outputs": [
    {
     "data": {
      "text/plain": [
       "False"
      ]
     },
     "execution_count": 146,
     "metadata": {},
     "output_type": "execute_result"
    }
   ],
   "source": [
    "s4.isdigit()"
   ]
  },
  {
   "cell_type": "code",
   "execution_count": 148,
   "id": "c7fb23d2",
   "metadata": {},
   "outputs": [
    {
     "data": {
      "text/plain": [
       "False"
      ]
     },
     "execution_count": 148,
     "metadata": {},
     "output_type": "execute_result"
    }
   ],
   "source": [
    "s4.isnumeric()"
   ]
  },
  {
   "cell_type": "code",
   "execution_count": 149,
   "id": "24b32005",
   "metadata": {},
   "outputs": [],
   "source": [
    "sub = '42'"
   ]
  },
  {
   "cell_type": "code",
   "execution_count": 150,
   "id": "c9479a80",
   "metadata": {},
   "outputs": [
    {
     "data": {
      "text/plain": [
       "False"
      ]
     },
     "execution_count": 150,
     "metadata": {},
     "output_type": "execute_result"
    }
   ],
   "source": [
    "str1.isupper()"
   ]
  },
  {
   "cell_type": "code",
   "execution_count": 151,
   "id": "8f0d69d8",
   "metadata": {},
   "outputs": [
    {
     "data": {
      "text/plain": [
       "'Hello Everyone, welcome to Python!'"
      ]
     },
     "execution_count": 151,
     "metadata": {},
     "output_type": "execute_result"
    }
   ],
   "source": [
    "str1"
   ]
  },
  {
   "cell_type": "code",
   "execution_count": 152,
   "id": "b5936c15",
   "metadata": {},
   "outputs": [],
   "source": [
    "s5= 'THIS'"
   ]
  },
  {
   "cell_type": "code",
   "execution_count": 153,
   "id": "3974f979",
   "metadata": {},
   "outputs": [
    {
     "data": {
      "text/plain": [
       "True"
      ]
     },
     "execution_count": 153,
     "metadata": {},
     "output_type": "execute_result"
    }
   ],
   "source": [
    "s5.isupper()"
   ]
  },
  {
   "cell_type": "code",
   "execution_count": 155,
   "id": "a0793292",
   "metadata": {},
   "outputs": [],
   "source": [
    "List1 = ['a','b','c']"
   ]
  },
  {
   "cell_type": "code",
   "execution_count": 156,
   "id": "832156ac",
   "metadata": {},
   "outputs": [
    {
     "data": {
      "text/plain": [
       "'aPyThOnbPyThOnc'"
      ]
     },
     "execution_count": 156,
     "metadata": {},
     "output_type": "execute_result"
    }
   ],
   "source": [
    "s1.join(List1)"
   ]
  },
  {
   "cell_type": "code",
   "execution_count": 158,
   "id": "ef36f676",
   "metadata": {},
   "outputs": [],
   "source": [
    "s1='*'"
   ]
  },
  {
   "cell_type": "code",
   "execution_count": 159,
   "id": "b2097c50",
   "metadata": {},
   "outputs": [
    {
     "data": {
      "text/plain": [
       "'a*b*c'"
      ]
     },
     "execution_count": 159,
     "metadata": {},
     "output_type": "execute_result"
    }
   ],
   "source": [
    "s1.join(List1)"
   ]
  },
  {
   "cell_type": "code",
   "execution_count": 160,
   "id": "6a12d15a",
   "metadata": {},
   "outputs": [
    {
     "data": {
      "text/plain": [
       "'pYtHoN'"
      ]
     },
     "execution_count": 160,
     "metadata": {},
     "output_type": "execute_result"
    }
   ],
   "source": [
    "s2"
   ]
  },
  {
   "cell_type": "code",
   "execution_count": 161,
   "id": "d74c58c8",
   "metadata": {},
   "outputs": [
    {
     "data": {
      "text/plain": [
       "'pYtHoN                                                                          '"
      ]
     },
     "execution_count": 161,
     "metadata": {},
     "output_type": "execute_result"
    }
   ],
   "source": [
    "s2.ljust(80)"
   ]
  },
  {
   "cell_type": "code",
   "execution_count": 163,
   "id": "8cebcb70",
   "metadata": {},
   "outputs": [
    {
     "data": {
      "text/plain": [
       "'**************************************************************************pYtHoN'"
      ]
     },
     "execution_count": 163,
     "metadata": {},
     "output_type": "execute_result"
    }
   ],
   "source": [
    "s2.rjust(80, '*')"
   ]
  },
  {
   "cell_type": "code",
   "execution_count": 164,
   "id": "5366cfa2",
   "metadata": {},
   "outputs": [
    {
     "data": {
      "text/plain": [
       "'python'"
      ]
     },
     "execution_count": 164,
     "metadata": {},
     "output_type": "execute_result"
    }
   ],
   "source": [
    "s2.lower()"
   ]
  },
  {
   "cell_type": "code",
   "execution_count": 165,
   "id": "72ac38e6",
   "metadata": {},
   "outputs": [
    {
     "data": {
      "text/plain": [
       "'PYTHON'"
      ]
     },
     "execution_count": 165,
     "metadata": {},
     "output_type": "execute_result"
    }
   ],
   "source": [
    "s2.upper()"
   ]
  },
  {
   "cell_type": "code",
   "execution_count": 166,
   "id": "415dd32e",
   "metadata": {},
   "outputs": [
    {
     "data": {
      "text/plain": [
       "'pYtHoN'"
      ]
     },
     "execution_count": 166,
     "metadata": {},
     "output_type": "execute_result"
    }
   ],
   "source": [
    "s2"
   ]
  },
  {
   "cell_type": "code",
   "execution_count": 167,
   "id": "665d25b9",
   "metadata": {},
   "outputs": [
    {
     "data": {
      "text/plain": [
       "('pYtHoN', '', '')"
      ]
     },
     "execution_count": 167,
     "metadata": {},
     "output_type": "execute_result"
    }
   ],
   "source": [
    "s2.partition(\" \")"
   ]
  },
  {
   "cell_type": "code",
   "execution_count": 170,
   "id": "c5a9d753",
   "metadata": {},
   "outputs": [
    {
     "data": {
      "text/plain": [
       "('Hello ', 'Everyone', ', welcome to Python!')"
      ]
     },
     "execution_count": 170,
     "metadata": {},
     "output_type": "execute_result"
    }
   ],
   "source": [
    "str1.partition('Everyone') # Separates the string from given arguement in such way that we get 3 partitions ie\n",
    "#part before the argument(1st), Argument(2nd), Part after the argument(3rd) "
   ]
  },
  {
   "cell_type": "code",
   "execution_count": 171,
   "id": "bb6f8ff6",
   "metadata": {},
   "outputs": [
    {
     "data": {
      "text/plain": [
       "'Hello Everyone, welcome to Python!'"
      ]
     },
     "execution_count": 171,
     "metadata": {},
     "output_type": "execute_result"
    }
   ],
   "source": [
    "str1"
   ]
  },
  {
   "cell_type": "code",
   "execution_count": 172,
   "id": "158c77e7",
   "metadata": {},
   "outputs": [
    {
     "data": {
      "text/plain": [
       "'Helloo Everyoone, welcoome too Pythoon!'"
      ]
     },
     "execution_count": 172,
     "metadata": {},
     "output_type": "execute_result"
    }
   ],
   "source": [
    "str1.replace('o', 'oo')"
   ]
  },
  {
   "cell_type": "code",
   "execution_count": 173,
   "id": "92e340fc",
   "metadata": {},
   "outputs": [
    {
     "data": {
      "text/plain": [
       "'Hello Everyone, welcome to Python!'"
      ]
     },
     "execution_count": 173,
     "metadata": {},
     "output_type": "execute_result"
    }
   ],
   "source": [
    "str1"
   ]
  },
  {
   "cell_type": "code",
   "execution_count": 174,
   "id": "da51a893",
   "metadata": {},
   "outputs": [
    {
     "data": {
      "text/plain": [
       "'Hello Everyoffe, welcome to Pythoff!'"
      ]
     },
     "execution_count": 174,
     "metadata": {},
     "output_type": "execute_result"
    }
   ],
   "source": [
    "str1.replace('on','off') # Replaces all the occurances of old string with the new one in given string"
   ]
  },
  {
   "cell_type": "code",
   "execution_count": 176,
   "id": "42f8f684",
   "metadata": {},
   "outputs": [
    {
     "data": {
      "text/plain": [
       "4"
      ]
     },
     "execution_count": 176,
     "metadata": {},
     "output_type": "execute_result"
    }
   ],
   "source": [
    "str1.find('o')"
   ]
  },
  {
   "cell_type": "code",
   "execution_count": 177,
   "id": "e45435a7",
   "metadata": {},
   "outputs": [
    {
     "data": {
      "text/plain": [
       "31"
      ]
     },
     "execution_count": 177,
     "metadata": {},
     "output_type": "execute_result"
    }
   ],
   "source": [
    "str1.rfind('o')# finds the first occurance of substring form right side od the string"
   ]
  },
  {
   "cell_type": "code",
   "execution_count": 179,
   "id": "afbd6f46",
   "metadata": {},
   "outputs": [
    {
     "data": {
      "text/plain": [
       "22"
      ]
     },
     "execution_count": 179,
     "metadata": {},
     "output_type": "execute_result"
    }
   ],
   "source": [
    "str1.rindex('e') # finds the index of the substring from right side of the string"
   ]
  },
  {
   "cell_type": "code",
   "execution_count": 180,
   "id": "d564b7aa",
   "metadata": {},
   "outputs": [
    {
     "data": {
      "text/plain": [
       "'Hello Everyone, welcome to Python!'"
      ]
     },
     "execution_count": 180,
     "metadata": {},
     "output_type": "execute_result"
    }
   ],
   "source": [
    "str1"
   ]
  },
  {
   "cell_type": "code",
   "execution_count": 181,
   "id": "0cf21a84",
   "metadata": {},
   "outputs": [],
   "source": [
    "strip = ('    Hello    ')"
   ]
  },
  {
   "cell_type": "code",
   "execution_count": 182,
   "id": "4596569d",
   "metadata": {},
   "outputs": [
    {
     "data": {
      "text/plain": [
       "'    Hello'"
      ]
     },
     "execution_count": 182,
     "metadata": {},
     "output_type": "execute_result"
    }
   ],
   "source": [
    "strip.rstrip(' ')"
   ]
  },
  {
   "cell_type": "code",
   "execution_count": 183,
   "id": "a694d265",
   "metadata": {},
   "outputs": [
    {
     "data": {
      "text/plain": [
       "'Hello    '"
      ]
     },
     "execution_count": 183,
     "metadata": {},
     "output_type": "execute_result"
    }
   ],
   "source": [
    "strip.lstrip(' ')"
   ]
  },
  {
   "cell_type": "code",
   "execution_count": 184,
   "id": "d62ad7eb",
   "metadata": {},
   "outputs": [
    {
     "data": {
      "text/plain": [
       "'Hello'"
      ]
     },
     "execution_count": 184,
     "metadata": {},
     "output_type": "execute_result"
    }
   ],
   "source": [
    "strip.strip()"
   ]
  },
  {
   "cell_type": "code",
   "execution_count": 185,
   "id": "a0034358",
   "metadata": {},
   "outputs": [
    {
     "data": {
      "text/plain": [
       "['Hello', 'Everyone,', 'welcome', 'to', 'Python!']"
      ]
     },
     "execution_count": 185,
     "metadata": {},
     "output_type": "execute_result"
    }
   ],
   "source": [
    "str1.split(' ')# it returns a list by separating the string using the provided character"
   ]
  },
  {
   "cell_type": "code",
   "execution_count": 186,
   "id": "97dfdfa3",
   "metadata": {},
   "outputs": [
    {
     "data": {
      "text/plain": [
       "['Hello Everyone', ' welcome to Python!']"
      ]
     },
     "execution_count": 186,
     "metadata": {},
     "output_type": "execute_result"
    }
   ],
   "source": [
    "str1.split(',')"
   ]
  },
  {
   "cell_type": "code",
   "execution_count": 188,
   "id": "31c02bde",
   "metadata": {},
   "outputs": [
    {
     "data": {
      "text/plain": [
       "['this ', 'is ', 'the ', 'demo of ', 'multi line ', 'string in python', '']"
      ]
     },
     "execution_count": 188,
     "metadata": {},
     "output_type": "execute_result"
    }
   ],
   "source": [
    "srtmulti.splitlines()"
   ]
  },
  {
   "cell_type": "code",
   "execution_count": 189,
   "id": "48ef79bf",
   "metadata": {},
   "outputs": [
    {
     "name": "stdout",
     "output_type": "stream",
     "text": [
      "this \n",
      "is \n",
      "the \n",
      "demo of \n",
      "multi line \n",
      "string in python\n",
      "\n",
      "\n"
     ]
    }
   ],
   "source": [
    "print(srtmulti)"
   ]
  },
  {
   "cell_type": "code",
   "execution_count": 192,
   "id": "e235c97d",
   "metadata": {},
   "outputs": [
    {
     "data": {
      "text/plain": [
       "'hELLO eVERYONE, WELCOME TO pYTHON!'"
      ]
     },
     "execution_count": 192,
     "metadata": {},
     "output_type": "execute_result"
    }
   ],
   "source": [
    "(str1.swapcase())"
   ]
  },
  {
   "cell_type": "code",
   "execution_count": 193,
   "id": "3af55c22",
   "metadata": {},
   "outputs": [],
   "source": [
    "s7 = '123'"
   ]
  },
  {
   "cell_type": "code",
   "execution_count": 196,
   "id": "be72f4fe",
   "metadata": {},
   "outputs": [
    {
     "data": {
      "text/plain": [
       "'00000123'"
      ]
     },
     "execution_count": 196,
     "metadata": {},
     "output_type": "execute_result"
    }
   ],
   "source": [
    "s7.zfill(8)"
   ]
  },
  {
   "cell_type": "code",
   "execution_count": 1,
   "id": "6f472cc1",
   "metadata": {},
   "outputs": [],
   "source": [
    "# Translate and maketrans methods on string\n",
    "# These methods are used to replace a character(s) with the given mapping characters\n",
    "'''\n",
    "mapping table/dictionary is designed by using maketrans() method\n",
    "this mapping is applied and new string is generated bt using tranlate() method\n",
    "\n",
    "Note: both methods work on string object\n",
    "eg: str.maketrans()\n",
    "    str.translate()\n",
    "\n",
    "'''"
   ]
  },
  {
   "cell_type": "code",
   "execution_count": 2,
   "id": "f658e33b",
   "metadata": {},
   "outputs": [],
   "source": [
    "str1 = 'This is the demo of maketrans and translate'"
   ]
  },
  {
   "cell_type": "code",
   "execution_count": 4,
   "id": "a7a3412a",
   "metadata": {},
   "outputs": [],
   "source": [
    "# We need to design mapping table/dictionary\n",
    "tab = str1.maketrans({'i':'y','t':'d','n':'m','o':'0'})"
   ]
  },
  {
   "cell_type": "code",
   "execution_count": 6,
   "id": "51a1f26d",
   "metadata": {},
   "outputs": [
    {
     "data": {
      "text/plain": [
       "'Thys ys dhe dem0 0f makedrams amd dramslade '"
      ]
     },
     "execution_count": 6,
     "metadata": {},
     "output_type": "execute_result"
    }
   ],
   "source": [
    "str1.translate(tab)"
   ]
  },
  {
   "cell_type": "code",
   "execution_count": null,
   "id": "ba93a2f1",
   "metadata": {},
   "outputs": [],
   "source": []
  }
 ],
 "metadata": {
  "kernelspec": {
   "display_name": "Python 3 (ipykernel)",
   "language": "python",
   "name": "python3"
  },
  "language_info": {
   "codemirror_mode": {
    "name": "ipython",
    "version": 3
   },
   "file_extension": ".py",
   "mimetype": "text/x-python",
   "name": "python",
   "nbconvert_exporter": "python",
   "pygments_lexer": "ipython3",
   "version": "3.9.9"
  }
 },
 "nbformat": 4,
 "nbformat_minor": 5
}
