{
 "cells": [
  {
   "cell_type": "code",
   "execution_count": 2,
   "id": "f45a7c47",
   "metadata": {},
   "outputs": [],
   "source": [
    "# Datatypes---> None, int, Float, String, Complex, Boolean, "
   ]
  },
  {
   "cell_type": "code",
   "execution_count": 5,
   "id": "30d62131",
   "metadata": {},
   "outputs": [],
   "source": [
    "a= None # it is used to create an empty variable"
   ]
  },
  {
   "cell_type": "code",
   "execution_count": 6,
   "id": "828f2c1c",
   "metadata": {},
   "outputs": [],
   "source": [
    "a"
   ]
  },
  {
   "cell_type": "code",
   "execution_count": 7,
   "id": "7684b1a5",
   "metadata": {},
   "outputs": [],
   "source": [
    "a=10"
   ]
  },
  {
   "cell_type": "code",
   "execution_count": 8,
   "id": "d1789f3b",
   "metadata": {},
   "outputs": [
    {
     "data": {
      "text/plain": [
       "int"
      ]
     },
     "execution_count": 8,
     "metadata": {},
     "output_type": "execute_result"
    }
   ],
   "source": [
    "type(a)"
   ]
  },
  {
   "cell_type": "code",
   "execution_count": 9,
   "id": "f4dcff32",
   "metadata": {},
   "outputs": [
    {
     "data": {
      "text/plain": [
       "10"
      ]
     },
     "execution_count": 9,
     "metadata": {},
     "output_type": "execute_result"
    }
   ],
   "source": [
    "a # Value of a"
   ]
  },
  {
   "cell_type": "code",
   "execution_count": 10,
   "id": "4fe47aa5",
   "metadata": {},
   "outputs": [
    {
     "data": {
      "text/plain": [
       "140719306123344"
      ]
     },
     "execution_count": 10,
     "metadata": {},
     "output_type": "execute_result"
    }
   ],
   "source": [
    "id(a)"
   ]
  },
  {
   "cell_type": "code",
   "execution_count": 11,
   "id": "bead0315",
   "metadata": {},
   "outputs": [],
   "source": [
    "b=12.5"
   ]
  },
  {
   "cell_type": "code",
   "execution_count": 12,
   "id": "3d08880d",
   "metadata": {},
   "outputs": [
    {
     "data": {
      "text/plain": [
       "float"
      ]
     },
     "execution_count": 12,
     "metadata": {},
     "output_type": "execute_result"
    }
   ],
   "source": [
    "type(b)"
   ]
  },
  {
   "cell_type": "code",
   "execution_count": 13,
   "id": "40ad31e4",
   "metadata": {},
   "outputs": [
    {
     "name": "stdout",
     "output_type": "stream",
     "text": [
      "<class 'float'>\n"
     ]
    }
   ],
   "source": [
    "print(type(b))"
   ]
  },
  {
   "cell_type": "code",
   "execution_count": 14,
   "id": "2fd1a73f",
   "metadata": {},
   "outputs": [],
   "source": [
    "str1= 'Python is a Progg lang'"
   ]
  },
  {
   "cell_type": "code",
   "execution_count": 15,
   "id": "c0557a30",
   "metadata": {},
   "outputs": [
    {
     "data": {
      "text/plain": [
       "'Python is a Progg lang'"
      ]
     },
     "execution_count": 15,
     "metadata": {},
     "output_type": "execute_result"
    }
   ],
   "source": [
    "str1"
   ]
  },
  {
   "cell_type": "code",
   "execution_count": 3,
   "id": "390748b1",
   "metadata": {},
   "outputs": [
    {
     "name": "stdout",
     "output_type": "stream",
     "text": [
      "Enter value of x12\n"
     ]
    }
   ],
   "source": [
    "x = input('Enter value of x')"
   ]
  },
  {
   "cell_type": "code",
   "execution_count": 4,
   "id": "4f06873a",
   "metadata": {},
   "outputs": [
    {
     "data": {
      "text/plain": [
       "'12'"
      ]
     },
     "execution_count": 4,
     "metadata": {},
     "output_type": "execute_result"
    }
   ],
   "source": [
    "x"
   ]
  },
  {
   "cell_type": "code",
   "execution_count": 18,
   "id": "f1df312f",
   "metadata": {},
   "outputs": [],
   "source": [
    "a=12"
   ]
  },
  {
   "cell_type": "code",
   "execution_count": 19,
   "id": "13d22467",
   "metadata": {},
   "outputs": [
    {
     "data": {
      "text/plain": [
       "12"
      ]
     },
     "execution_count": 19,
     "metadata": {},
     "output_type": "execute_result"
    }
   ],
   "source": [
    "a"
   ]
  },
  {
   "cell_type": "code",
   "execution_count": 20,
   "id": "ed1214f9",
   "metadata": {},
   "outputs": [
    {
     "data": {
      "text/plain": [
       "str"
      ]
     },
     "execution_count": 20,
     "metadata": {},
     "output_type": "execute_result"
    }
   ],
   "source": [
    "type(x)"
   ]
  },
  {
   "cell_type": "code",
   "execution_count": 21,
   "id": "29504e54",
   "metadata": {},
   "outputs": [
    {
     "data": {
      "text/plain": [
       "int"
      ]
     },
     "execution_count": 21,
     "metadata": {},
     "output_type": "execute_result"
    }
   ],
   "source": [
    "type(a)"
   ]
  },
  {
   "cell_type": "code",
   "execution_count": 22,
   "id": "5b11ed72",
   "metadata": {},
   "outputs": [
    {
     "data": {
      "text/plain": [
       "12"
      ]
     },
     "execution_count": 22,
     "metadata": {},
     "output_type": "execute_result"
    }
   ],
   "source": [
    "int(x)"
   ]
  },
  {
   "cell_type": "code",
   "execution_count": 23,
   "id": "c430c833",
   "metadata": {},
   "outputs": [
    {
     "data": {
      "text/plain": [
       "int"
      ]
     },
     "execution_count": 23,
     "metadata": {},
     "output_type": "execute_result"
    }
   ],
   "source": [
    "type(a)"
   ]
  },
  {
   "cell_type": "code",
   "execution_count": 7,
   "id": "569f4290",
   "metadata": {},
   "outputs": [
    {
     "name": "stdout",
     "output_type": "stream",
     "text": [
      "1\n",
      "2\n",
      "12\n"
     ]
    }
   ],
   "source": [
    "x= input()\n",
    "y= input()\n",
    "print(x+y)"
   ]
  },
  {
   "cell_type": "code",
   "execution_count": 25,
   "id": "6c50d062",
   "metadata": {},
   "outputs": [
    {
     "name": "stdout",
     "output_type": "stream",
     "text": [
      "1\n",
      "2\n",
      "3\n"
     ]
    }
   ],
   "source": [
    "x= int(input())\n",
    "y= int(input())\n",
    "print(x+y)"
   ]
  },
  {
   "cell_type": "code",
   "execution_count": 26,
   "id": "b01cb209",
   "metadata": {},
   "outputs": [],
   "source": [
    "# Complex"
   ]
  },
  {
   "cell_type": "code",
   "execution_count": 27,
   "id": "3281a406",
   "metadata": {},
   "outputs": [],
   "source": [
    "comp = 12+13j"
   ]
  },
  {
   "cell_type": "code",
   "execution_count": 28,
   "id": "9e61682f",
   "metadata": {},
   "outputs": [
    {
     "data": {
      "text/plain": [
       "complex"
      ]
     },
     "execution_count": 28,
     "metadata": {},
     "output_type": "execute_result"
    }
   ],
   "source": [
    "type(comp)"
   ]
  },
  {
   "cell_type": "code",
   "execution_count": 29,
   "id": "d79056bc",
   "metadata": {},
   "outputs": [],
   "source": [
    "comp1 = 1+3j"
   ]
  },
  {
   "cell_type": "code",
   "execution_count": 30,
   "id": "1eab71ea",
   "metadata": {},
   "outputs": [],
   "source": [
    "comp3 = comp+comp1"
   ]
  },
  {
   "cell_type": "code",
   "execution_count": 31,
   "id": "f56694e3",
   "metadata": {},
   "outputs": [
    {
     "data": {
      "text/plain": [
       "(13+16j)"
      ]
     },
     "execution_count": 31,
     "metadata": {},
     "output_type": "execute_result"
    }
   ],
   "source": [
    "comp3"
   ]
  },
  {
   "cell_type": "code",
   "execution_count": 32,
   "id": "5c72487c",
   "metadata": {},
   "outputs": [],
   "source": [
    "#Boolean----> True, False"
   ]
  },
  {
   "cell_type": "code",
   "execution_count": 33,
   "id": "44fbe6fd",
   "metadata": {},
   "outputs": [],
   "source": [
    "b1 = True"
   ]
  },
  {
   "cell_type": "code",
   "execution_count": 34,
   "id": "13744c9e",
   "metadata": {},
   "outputs": [
    {
     "data": {
      "text/plain": [
       "bool"
      ]
     },
     "execution_count": 34,
     "metadata": {},
     "output_type": "execute_result"
    }
   ],
   "source": [
    "type(b1)"
   ]
  },
  {
   "cell_type": "code",
   "execution_count": 35,
   "id": "a09c2db7",
   "metadata": {},
   "outputs": [],
   "source": [
    "b2 = False"
   ]
  },
  {
   "cell_type": "code",
   "execution_count": 36,
   "id": "290a9a8b",
   "metadata": {},
   "outputs": [
    {
     "data": {
      "text/plain": [
       "bool"
      ]
     },
     "execution_count": 36,
     "metadata": {},
     "output_type": "execute_result"
    }
   ],
   "source": [
    "type(b2)"
   ]
  },
  {
   "cell_type": "code",
   "execution_count": null,
   "id": "fb418d34",
   "metadata": {},
   "outputs": [],
   "source": []
  }
 ],
 "metadata": {
  "kernelspec": {
   "display_name": "Python 3",
   "language": "python",
   "name": "python3"
  },
  "language_info": {
   "codemirror_mode": {
    "name": "ipython",
    "version": 3
   },
   "file_extension": ".py",
   "mimetype": "text/x-python",
   "name": "python",
   "nbconvert_exporter": "python",
   "pygments_lexer": "ipython3",
   "version": "3.8.8"
  }
 },
 "nbformat": 4,
 "nbformat_minor": 5
}
