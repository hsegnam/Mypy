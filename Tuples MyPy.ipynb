{
 "cells": [
  {
   "cell_type": "code",
   "execution_count": 1,
   "id": "918a63b9",
   "metadata": {},
   "outputs": [],
   "source": [
    "# Tuple is a sequential data structure like lists\n",
    "# Tuple is immutable\n",
    "# It id ordered \n",
    "# It is indexed\n",
    "# syntax ====> tuple_variable = (comma separated elements)\n",
    "# Accessible only in Read only mode\n",
    "# Use---> Username, Passwords sensitive "
   ]
  },
  {
   "cell_type": "code",
   "execution_count": 2,
   "id": "0d15e037",
   "metadata": {},
   "outputs": [],
   "source": [
    "list1 = (1,2,3,4,4,5,6)"
   ]
  },
  {
   "cell_type": "code",
   "execution_count": 3,
   "id": "96daf6a6",
   "metadata": {},
   "outputs": [
    {
     "data": {
      "text/plain": [
       "(1, 2, 3, 4, 4, 5, 6)"
      ]
     },
     "execution_count": 3,
     "metadata": {},
     "output_type": "execute_result"
    }
   ],
   "source": [
    "list1"
   ]
  },
  {
   "cell_type": "code",
   "execution_count": 4,
   "id": "395f0fa1",
   "metadata": {},
   "outputs": [
    {
     "data": {
      "text/plain": [
       "tuple"
      ]
     },
     "execution_count": 4,
     "metadata": {},
     "output_type": "execute_result"
    }
   ],
   "source": [
    "type(list1)"
   ]
  },
  {
   "cell_type": "code",
   "execution_count": 5,
   "id": "59163476",
   "metadata": {},
   "outputs": [],
   "source": [
    "tup1 = (1,2,4,5,7,8,9)"
   ]
  },
  {
   "cell_type": "code",
   "execution_count": 6,
   "id": "4960a2ad",
   "metadata": {},
   "outputs": [
    {
     "data": {
      "text/plain": [
       "1"
      ]
     },
     "execution_count": 6,
     "metadata": {},
     "output_type": "execute_result"
    }
   ],
   "source": [
    "tup1.count(1)"
   ]
  },
  {
   "cell_type": "code",
   "execution_count": 7,
   "id": "699e4b30",
   "metadata": {},
   "outputs": [
    {
     "data": {
      "text/plain": [
       "4"
      ]
     },
     "execution_count": 7,
     "metadata": {},
     "output_type": "execute_result"
    }
   ],
   "source": [
    "tup1.index(7)"
   ]
  },
  {
   "cell_type": "code",
   "execution_count": 10,
   "id": "d04675a8",
   "metadata": {},
   "outputs": [
    {
     "ename": "AttributeError",
     "evalue": "'tuple' object has no attribute 'pop'",
     "output_type": "error",
     "traceback": [
      "\u001b[1;31m---------------------------------------------------------------------------\u001b[0m",
      "\u001b[1;31mAttributeError\u001b[0m                            Traceback (most recent call last)",
      "\u001b[1;32m<ipython-input-10-df4bb9548f03>\u001b[0m in \u001b[0;36m<module>\u001b[1;34m\u001b[0m\n\u001b[1;32m----> 1\u001b[1;33m \u001b[0mtup1\u001b[0m\u001b[1;33m.\u001b[0m\u001b[0mpop\u001b[0m\u001b[1;33m(\u001b[0m\u001b[1;36m3\u001b[0m\u001b[1;33m)\u001b[0m\u001b[1;33m\u001b[0m\u001b[1;33m\u001b[0m\u001b[0m\n\u001b[0m",
      "\u001b[1;31mAttributeError\u001b[0m: 'tuple' object has no attribute 'pop'"
     ]
    }
   ],
   "source": [
    "tup1.pop(3)"
   ]
  },
  {
   "cell_type": "code",
   "execution_count": 11,
   "id": "056080d1",
   "metadata": {},
   "outputs": [],
   "source": [
    "list2 = [1,2,3,4]\n",
    "list3 = [9,8,7,6]"
   ]
  },
  {
   "cell_type": "code",
   "execution_count": 12,
   "id": "e2ccd916",
   "metadata": {},
   "outputs": [],
   "source": [
    "list2.insert(2,list3)"
   ]
  },
  {
   "cell_type": "code",
   "execution_count": 13,
   "id": "b1d27ce9",
   "metadata": {},
   "outputs": [
    {
     "data": {
      "text/plain": [
       "[1, 2, [9, 8, 7, 6], 3, 4]"
      ]
     },
     "execution_count": 13,
     "metadata": {},
     "output_type": "execute_result"
    }
   ],
   "source": [
    "list2"
   ]
  },
  {
   "cell_type": "code",
   "execution_count": 14,
   "id": "9e1f3c60",
   "metadata": {},
   "outputs": [],
   "source": [
    "tup2 = (11,22,33,list3,44,55,66)"
   ]
  },
  {
   "cell_type": "code",
   "execution_count": 15,
   "id": "6cb6a3ed",
   "metadata": {},
   "outputs": [
    {
     "data": {
      "text/plain": [
       "(11, 22, 33, [9, 8, 7, 6], 44, 55, 66)"
      ]
     },
     "execution_count": 15,
     "metadata": {},
     "output_type": "execute_result"
    }
   ],
   "source": [
    "tup2"
   ]
  },
  {
   "cell_type": "code",
   "execution_count": 16,
   "id": "87fc1b8a",
   "metadata": {},
   "outputs": [
    {
     "ename": "TypeError",
     "evalue": "'tuple' object does not support item assignment",
     "output_type": "error",
     "traceback": [
      "\u001b[1;31m---------------------------------------------------------------------------\u001b[0m",
      "\u001b[1;31mTypeError\u001b[0m                                 Traceback (most recent call last)",
      "\u001b[1;32m<ipython-input-16-cedd07b4f6bd>\u001b[0m in \u001b[0;36m<module>\u001b[1;34m\u001b[0m\n\u001b[1;32m----> 1\u001b[1;33m \u001b[0mtup2\u001b[0m\u001b[1;33m[\u001b[0m\u001b[1;36m2\u001b[0m\u001b[1;33m]\u001b[0m\u001b[1;33m=\u001b[0m \u001b[1;36m34\u001b[0m\u001b[1;33m\u001b[0m\u001b[1;33m\u001b[0m\u001b[0m\n\u001b[0m",
      "\u001b[1;31mTypeError\u001b[0m: 'tuple' object does not support item assignment"
     ]
    }
   ],
   "source": [
    "tup2[2]= 34"
   ]
  },
  {
   "cell_type": "code",
   "execution_count": 17,
   "id": "eb04e02d",
   "metadata": {},
   "outputs": [
    {
     "data": {
      "text/plain": [
       "55"
      ]
     },
     "execution_count": 17,
     "metadata": {},
     "output_type": "execute_result"
    }
   ],
   "source": [
    "tup2[-2]"
   ]
  },
  {
   "cell_type": "code",
   "execution_count": 18,
   "id": "5449ff7f",
   "metadata": {},
   "outputs": [
    {
     "data": {
      "text/plain": [
       "8"
      ]
     },
     "execution_count": 18,
     "metadata": {},
     "output_type": "execute_result"
    }
   ],
   "source": [
    "tup2[3][1]"
   ]
  },
  {
   "cell_type": "code",
   "execution_count": 19,
   "id": "97fcc76c",
   "metadata": {},
   "outputs": [
    {
     "data": {
      "text/plain": [
       "8"
      ]
     },
     "execution_count": 19,
     "metadata": {},
     "output_type": "execute_result"
    }
   ],
   "source": [
    "tup2[-4][-3]"
   ]
  },
  {
   "cell_type": "code",
   "execution_count": 20,
   "id": "dac778cd",
   "metadata": {},
   "outputs": [
    {
     "data": {
      "text/plain": [
       "8"
      ]
     },
     "execution_count": 20,
     "metadata": {},
     "output_type": "execute_result"
    }
   ],
   "source": [
    "tup2[3][-3]"
   ]
  },
  {
   "cell_type": "code",
   "execution_count": 21,
   "id": "e1a0e2e2",
   "metadata": {},
   "outputs": [
    {
     "data": {
      "text/plain": [
       "8"
      ]
     },
     "execution_count": 21,
     "metadata": {},
     "output_type": "execute_result"
    }
   ],
   "source": [
    "tup2[-4][1]"
   ]
  },
  {
   "cell_type": "code",
   "execution_count": 22,
   "id": "de5ce016",
   "metadata": {},
   "outputs": [
    {
     "data": {
      "text/plain": [
       "(1, 2, 4, 5, 7, 8, 9)"
      ]
     },
     "execution_count": 22,
     "metadata": {},
     "output_type": "execute_result"
    }
   ],
   "source": [
    "tup1"
   ]
  },
  {
   "cell_type": "code",
   "execution_count": 23,
   "id": "a7139718",
   "metadata": {},
   "outputs": [
    {
     "data": {
      "text/plain": [
       "(11, 22, 33, [9, 8, 7, 6], 44, 55, 66)"
      ]
     },
     "execution_count": 23,
     "metadata": {},
     "output_type": "execute_result"
    }
   ],
   "source": [
    "tup2"
   ]
  },
  {
   "cell_type": "code",
   "execution_count": 24,
   "id": "c44a567c",
   "metadata": {},
   "outputs": [],
   "source": [
    "tup2[-4][1] = None"
   ]
  },
  {
   "cell_type": "code",
   "execution_count": 25,
   "id": "60fefff0",
   "metadata": {},
   "outputs": [
    {
     "data": {
      "text/plain": [
       "(11, 22, 33, [9, None, 7, 6], 44, 55, 66)"
      ]
     },
     "execution_count": 25,
     "metadata": {},
     "output_type": "execute_result"
    }
   ],
   "source": [
    "tup2"
   ]
  },
  {
   "cell_type": "code",
   "execution_count": 26,
   "id": "41495dc4",
   "metadata": {},
   "outputs": [
    {
     "ename": "TypeError",
     "evalue": "'tuple' object does not support item assignment",
     "output_type": "error",
     "traceback": [
      "\u001b[1;31m---------------------------------------------------------------------------\u001b[0m",
      "\u001b[1;31mTypeError\u001b[0m                                 Traceback (most recent call last)",
      "\u001b[1;32m<ipython-input-26-4a7c5e19f6c2>\u001b[0m in \u001b[0;36m<module>\u001b[1;34m\u001b[0m\n\u001b[1;32m----> 1\u001b[1;33m \u001b[0mtup2\u001b[0m\u001b[1;33m[\u001b[0m\u001b[1;36m0\u001b[0m\u001b[1;33m]\u001b[0m\u001b[1;33m=\u001b[0m \u001b[1;32mNone\u001b[0m\u001b[1;33m\u001b[0m\u001b[1;33m\u001b[0m\u001b[0m\n\u001b[0m",
      "\u001b[1;31mTypeError\u001b[0m: 'tuple' object does not support item assignment"
     ]
    }
   ],
   "source": [
    "tup2[0]= None"
   ]
  },
  {
   "cell_type": "code",
   "execution_count": 31,
   "id": "d7c2ae45",
   "metadata": {},
   "outputs": [],
   "source": [
    "tup4 = tuple(list3)"
   ]
  },
  {
   "cell_type": "code",
   "execution_count": 32,
   "id": "b6391421",
   "metadata": {},
   "outputs": [
    {
     "data": {
      "text/plain": [
       "(9, None, 7, 6)"
      ]
     },
     "execution_count": 32,
     "metadata": {},
     "output_type": "execute_result"
    }
   ],
   "source": [
    "tup4"
   ]
  },
  {
   "cell_type": "code",
   "execution_count": 33,
   "id": "42f4814e",
   "metadata": {},
   "outputs": [
    {
     "data": {
      "text/plain": [
       "[1, 2, [9, None, 7, 6], 3, 4]"
      ]
     },
     "execution_count": 33,
     "metadata": {},
     "output_type": "execute_result"
    }
   ],
   "source": [
    "list2"
   ]
  },
  {
   "cell_type": "code",
   "execution_count": 34,
   "id": "2780ed96",
   "metadata": {},
   "outputs": [
    {
     "data": {
      "text/plain": [
       "[9, None, 7, 6]"
      ]
     },
     "execution_count": 34,
     "metadata": {},
     "output_type": "execute_result"
    }
   ],
   "source": [
    "list3"
   ]
  },
  {
   "cell_type": "code",
   "execution_count": 35,
   "id": "f5afa8c6",
   "metadata": {},
   "outputs": [],
   "source": [
    "tup5 = (55,66,tup4,77,88)"
   ]
  },
  {
   "cell_type": "code",
   "execution_count": 36,
   "id": "6712c362",
   "metadata": {},
   "outputs": [
    {
     "data": {
      "text/plain": [
       "(55, 66, (9, None, 7, 6), 77, 88)"
      ]
     },
     "execution_count": 36,
     "metadata": {},
     "output_type": "execute_result"
    }
   ],
   "source": [
    "tup5"
   ]
  },
  {
   "cell_type": "code",
   "execution_count": 38,
   "id": "75fe28a2",
   "metadata": {},
   "outputs": [
    {
     "ename": "TypeError",
     "evalue": "'tuple' object does not support item assignment",
     "output_type": "error",
     "traceback": [
      "\u001b[1;31m---------------------------------------------------------------------------\u001b[0m",
      "\u001b[1;31mTypeError\u001b[0m                                 Traceback (most recent call last)",
      "\u001b[1;32m<ipython-input-38-94bfb9ae651e>\u001b[0m in \u001b[0;36m<module>\u001b[1;34m\u001b[0m\n\u001b[1;32m----> 1\u001b[1;33m \u001b[0mtup5\u001b[0m\u001b[1;33m[\u001b[0m\u001b[1;36m2\u001b[0m\u001b[1;33m]\u001b[0m\u001b[1;33m[\u001b[0m\u001b[1;36m2\u001b[0m\u001b[1;33m]\u001b[0m \u001b[1;33m=\u001b[0m \u001b[1;32mNone\u001b[0m\u001b[1;33m\u001b[0m\u001b[1;33m\u001b[0m\u001b[0m\n\u001b[0m",
      "\u001b[1;31mTypeError\u001b[0m: 'tuple' object does not support item assignment"
     ]
    }
   ],
   "source": [
    "tup5[2][2] = None"
   ]
  },
  {
   "cell_type": "markdown",
   "id": "61ccf4fd",
   "metadata": {},
   "source": [
    "Diff bet list and tuple\n",
    "list is mutable----> Chsngeable---> add, update, delete\n",
    "where as tuple id immutable----> inchangeable ---> can't add,detete,update---> Reda only mode\n"
   ]
  },
  {
   "cell_type": "code",
   "execution_count": 40,
   "id": "29b26dc3",
   "metadata": {},
   "outputs": [],
   "source": [
    "temp = tuple()"
   ]
  },
  {
   "cell_type": "code",
   "execution_count": 41,
   "id": "591ba403",
   "metadata": {},
   "outputs": [
    {
     "data": {
      "text/plain": [
       "()"
      ]
     },
     "execution_count": 41,
     "metadata": {},
     "output_type": "execute_result"
    }
   ],
   "source": [
    "temp"
   ]
  },
  {
   "cell_type": "code",
   "execution_count": 42,
   "id": "c9c04607",
   "metadata": {},
   "outputs": [
    {
     "ename": "TypeError",
     "evalue": "'tuple' object does not support item assignment",
     "output_type": "error",
     "traceback": [
      "\u001b[1;31m---------------------------------------------------------------------------\u001b[0m",
      "\u001b[1;31mTypeError\u001b[0m                                 Traceback (most recent call last)",
      "\u001b[1;32m<ipython-input-42-cbc10d49e778>\u001b[0m in \u001b[0;36m<module>\u001b[1;34m\u001b[0m\n\u001b[1;32m----> 1\u001b[1;33m \u001b[0mtemp\u001b[0m\u001b[1;33m[\u001b[0m\u001b[1;36m0\u001b[0m\u001b[1;33m]\u001b[0m \u001b[1;33m=\u001b[0m \u001b[1;36m11\u001b[0m\u001b[1;33m\u001b[0m\u001b[1;33m\u001b[0m\u001b[0m\n\u001b[0m",
      "\u001b[1;31mTypeError\u001b[0m: 'tuple' object does not support item assignment"
     ]
    }
   ],
   "source": [
    "temp[0] = 11"
   ]
  },
  {
   "cell_type": "code",
   "execution_count": 43,
   "id": "1a510936",
   "metadata": {},
   "outputs": [
    {
     "data": {
      "text/plain": [
       "(9, None, 7, 6)"
      ]
     },
     "execution_count": 43,
     "metadata": {},
     "output_type": "execute_result"
    }
   ],
   "source": [
    "tup4"
   ]
  },
  {
   "cell_type": "code",
   "execution_count": 45,
   "id": "44ef0af5",
   "metadata": {},
   "outputs": [],
   "source": [
    "tup4 = tuple([1,2,3])"
   ]
  },
  {
   "cell_type": "code",
   "execution_count": 46,
   "id": "81b5ee20",
   "metadata": {},
   "outputs": [
    {
     "data": {
      "text/plain": [
       "(1, 2, 3)"
      ]
     },
     "execution_count": 46,
     "metadata": {},
     "output_type": "execute_result"
    }
   ],
   "source": [
    "tup4"
   ]
  },
  {
   "cell_type": "code",
   "execution_count": 47,
   "id": "267c3ff4",
   "metadata": {},
   "outputs": [],
   "source": [
    "listtup = list(tup4)"
   ]
  },
  {
   "cell_type": "code",
   "execution_count": 49,
   "id": "1cd156c8",
   "metadata": {},
   "outputs": [
    {
     "data": {
      "text/plain": [
       "[1, 2, 3]"
      ]
     },
     "execution_count": 49,
     "metadata": {},
     "output_type": "execute_result"
    }
   ],
   "source": [
    "listtup"
   ]
  },
  {
   "cell_type": "code",
   "execution_count": 50,
   "id": "ddd06185",
   "metadata": {},
   "outputs": [],
   "source": [
    "listtup[2]=4"
   ]
  },
  {
   "cell_type": "code",
   "execution_count": 51,
   "id": "aac30994",
   "metadata": {},
   "outputs": [],
   "source": [
    "tup4 = tuple(listtup)"
   ]
  },
  {
   "cell_type": "code",
   "execution_count": 52,
   "id": "3734f9d7",
   "metadata": {},
   "outputs": [
    {
     "data": {
      "text/plain": [
       "(1, 2, 4)"
      ]
     },
     "execution_count": 52,
     "metadata": {},
     "output_type": "execute_result"
    }
   ],
   "source": [
    "tup4"
   ]
  },
  {
   "cell_type": "code",
   "execution_count": 53,
   "id": "0d2ae25e",
   "metadata": {},
   "outputs": [],
   "source": [
    "a=3.5654"
   ]
  },
  {
   "cell_type": "code",
   "execution_count": 54,
   "id": "01870353",
   "metadata": {},
   "outputs": [
    {
     "data": {
      "text/plain": [
       "float"
      ]
     },
     "execution_count": 54,
     "metadata": {},
     "output_type": "execute_result"
    }
   ],
   "source": [
    "type(a)"
   ]
  },
  {
   "cell_type": "code",
   "execution_count": 55,
   "id": "86b2d06e",
   "metadata": {},
   "outputs": [
    {
     "data": {
      "text/plain": [
       "3"
      ]
     },
     "execution_count": 55,
     "metadata": {},
     "output_type": "execute_result"
    }
   ],
   "source": [
    "int(a)"
   ]
  },
  {
   "cell_type": "code",
   "execution_count": null,
   "id": "36901783",
   "metadata": {},
   "outputs": [],
   "source": []
  }
 ],
 "metadata": {
  "kernelspec": {
   "display_name": "Python 3",
   "language": "python",
   "name": "python3"
  },
  "language_info": {
   "codemirror_mode": {
    "name": "ipython",
    "version": 3
   },
   "file_extension": ".py",
   "mimetype": "text/x-python",
   "name": "python",
   "nbconvert_exporter": "python",
   "pygments_lexer": "ipython3",
   "version": "3.8.8"
  }
 },
 "nbformat": 4,
 "nbformat_minor": 5
}
