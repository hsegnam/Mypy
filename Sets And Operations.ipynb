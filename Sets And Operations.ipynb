{
 "cells": [
  {
   "cell_type": "code",
   "execution_count": 2,
   "id": "8f4aac40",
   "metadata": {},
   "outputs": [],
   "source": [
    "# SetAndOperations\n",
    "# Real time set ----> implementation\n",
    "# Set is a collection of unique elements \n",
    "# homogeneous and heterogeneous elements are allowed \n",
    "# It it unordered \n",
    "# Indexing is not Possible with sets\n",
    "# It supports all set operations like intersection, union, addition, subtraction etc\n",
    "# Syntax ---> SetVariable = {comma seperated unique elements}"
   ]
  },
  {
   "cell_type": "code",
   "execution_count": 5,
   "id": "faef0c92",
   "metadata": {},
   "outputs": [],
   "source": [
    "set1 = {1,2,3,4,6,7,8}"
   ]
  },
  {
   "cell_type": "code",
   "execution_count": 6,
   "id": "d260392d",
   "metadata": {},
   "outputs": [
    {
     "data": {
      "text/plain": [
       "set"
      ]
     },
     "execution_count": 6,
     "metadata": {},
     "output_type": "execute_result"
    }
   ],
   "source": [
    "type(set1)"
   ]
  },
  {
   "cell_type": "code",
   "execution_count": 7,
   "id": "b49501e0",
   "metadata": {},
   "outputs": [],
   "source": [
    "set2 = {1,1,2,3,4,5,5,5,5,6,6,7,8,9}"
   ]
  },
  {
   "cell_type": "code",
   "execution_count": 8,
   "id": "6d3d3425",
   "metadata": {},
   "outputs": [
    {
     "data": {
      "text/plain": [
       "{1, 2, 3, 4, 5, 6, 7, 8, 9}"
      ]
     },
     "execution_count": 8,
     "metadata": {},
     "output_type": "execute_result"
    }
   ],
   "source": [
    "set2"
   ]
  },
  {
   "cell_type": "code",
   "execution_count": 9,
   "id": "b982b421",
   "metadata": {},
   "outputs": [],
   "source": [
    "set3 = {1,2,'a','b','c'}"
   ]
  },
  {
   "cell_type": "code",
   "execution_count": 11,
   "id": "adabe93a",
   "metadata": {},
   "outputs": [],
   "source": [
    "set1.add('x')"
   ]
  },
  {
   "cell_type": "code",
   "execution_count": 12,
   "id": "cdb13b4b",
   "metadata": {},
   "outputs": [
    {
     "data": {
      "text/plain": [
       "{1, 2, 3, 4, 6, 7, 8, 'x'}"
      ]
     },
     "execution_count": 12,
     "metadata": {},
     "output_type": "execute_result"
    }
   ],
   "source": [
    "set1"
   ]
  },
  {
   "cell_type": "code",
   "execution_count": 13,
   "id": "72c12002",
   "metadata": {},
   "outputs": [],
   "source": [
    "emptyset = set()"
   ]
  },
  {
   "cell_type": "code",
   "execution_count": 14,
   "id": "7c82f384",
   "metadata": {},
   "outputs": [
    {
     "data": {
      "text/plain": [
       "set"
      ]
     },
     "execution_count": 14,
     "metadata": {},
     "output_type": "execute_result"
    }
   ],
   "source": [
    "type(emptyset)"
   ]
  },
  {
   "cell_type": "code",
   "execution_count": 16,
   "id": "01b8b923",
   "metadata": {},
   "outputs": [],
   "source": [
    "emptyset.add(11)"
   ]
  },
  {
   "cell_type": "code",
   "execution_count": 17,
   "id": "1a97329c",
   "metadata": {},
   "outputs": [
    {
     "data": {
      "text/plain": [
       "{11}"
      ]
     },
     "execution_count": 17,
     "metadata": {},
     "output_type": "execute_result"
    }
   ],
   "source": [
    "emptyset"
   ]
  },
  {
   "cell_type": "code",
   "execution_count": 18,
   "id": "4363de41",
   "metadata": {},
   "outputs": [
    {
     "data": {
      "text/plain": [
       "{1, 2, 3, 4, 6, 7, 8, 'x'}"
      ]
     },
     "execution_count": 18,
     "metadata": {},
     "output_type": "execute_result"
    }
   ],
   "source": [
    "set1"
   ]
  },
  {
   "cell_type": "code",
   "execution_count": 19,
   "id": "559144a7",
   "metadata": {},
   "outputs": [
    {
     "data": {
      "text/plain": [
       "{1, 2, 'a', 'b', 'c'}"
      ]
     },
     "execution_count": 19,
     "metadata": {},
     "output_type": "execute_result"
    }
   ],
   "source": [
    "set3"
   ]
  },
  {
   "cell_type": "code",
   "execution_count": 20,
   "id": "782127a4",
   "metadata": {},
   "outputs": [
    {
     "data": {
      "text/plain": [
       "{1, 2, 3, 4, 6, 7, 8, 'a', 'b', 'c', 'x'}"
      ]
     },
     "execution_count": 20,
     "metadata": {},
     "output_type": "execute_result"
    }
   ],
   "source": [
    "set1.union(set3)"
   ]
  },
  {
   "cell_type": "code",
   "execution_count": 21,
   "id": "47ae8e87",
   "metadata": {},
   "outputs": [
    {
     "data": {
      "text/plain": [
       "{1, 2}"
      ]
     },
     "execution_count": 21,
     "metadata": {},
     "output_type": "execute_result"
    }
   ],
   "source": [
    "set1.intersection(set3)"
   ]
  },
  {
   "cell_type": "code",
   "execution_count": 23,
   "id": "1209aaca",
   "metadata": {},
   "outputs": [
    {
     "data": {
      "text/plain": [
       "{3, 4, 6, 7, 8, 'x'}"
      ]
     },
     "execution_count": 23,
     "metadata": {},
     "output_type": "execute_result"
    }
   ],
   "source": [
    "set1.difference(set3)# Difference means Subtraction of set3 from set1----> The elements present in set1 but not in set3"
   ]
  },
  {
   "cell_type": "code",
   "execution_count": 25,
   "id": "f7b004f0",
   "metadata": {},
   "outputs": [
    {
     "data": {
      "text/plain": [
       "{'a', 'b', 'c'}"
      ]
     },
     "execution_count": 25,
     "metadata": {},
     "output_type": "execute_result"
    }
   ],
   "source": [
    "set3.difference(set1)"
   ]
  },
  {
   "cell_type": "code",
   "execution_count": 26,
   "id": "f86ea5aa",
   "metadata": {},
   "outputs": [
    {
     "data": {
      "text/plain": [
       "{1, 2, 3, 4, 6, 7, 8, 'x'}"
      ]
     },
     "execution_count": 26,
     "metadata": {},
     "output_type": "execute_result"
    }
   ],
   "source": [
    "set1"
   ]
  },
  {
   "cell_type": "code",
   "execution_count": 27,
   "id": "f59c7aca",
   "metadata": {},
   "outputs": [
    {
     "data": {
      "text/plain": [
       "{1, 2, 'a', 'b', 'c'}"
      ]
     },
     "execution_count": 27,
     "metadata": {},
     "output_type": "execute_result"
    }
   ],
   "source": [
    "set3"
   ]
  },
  {
   "cell_type": "code",
   "execution_count": 28,
   "id": "4e0a6220",
   "metadata": {},
   "outputs": [],
   "source": [
    "setUnion = set1.union(set3)"
   ]
  },
  {
   "cell_type": "code",
   "execution_count": 29,
   "id": "90612c82",
   "metadata": {},
   "outputs": [
    {
     "data": {
      "text/plain": [
       "{1, 2, 3, 4, 6, 7, 8, 'a', 'b', 'c', 'x'}"
      ]
     },
     "execution_count": 29,
     "metadata": {},
     "output_type": "execute_result"
    }
   ],
   "source": [
    "setUnion"
   ]
  },
  {
   "cell_type": "code",
   "execution_count": 32,
   "id": "4dc9a103",
   "metadata": {},
   "outputs": [],
   "source": [
    "set1.update(set3)"
   ]
  },
  {
   "cell_type": "code",
   "execution_count": 33,
   "id": "356aa85a",
   "metadata": {},
   "outputs": [
    {
     "data": {
      "text/plain": [
       "{1, 2, 3, 4, 6, 7, 8, 'a', 'b', 'c', 'x'}"
      ]
     },
     "execution_count": 33,
     "metadata": {},
     "output_type": "execute_result"
    }
   ],
   "source": [
    "set1"
   ]
  },
  {
   "cell_type": "code",
   "execution_count": 35,
   "id": "342b7a30",
   "metadata": {},
   "outputs": [],
   "source": [
    "set4 = {1,2,3,'p','q','r',44,55,88}"
   ]
  },
  {
   "cell_type": "code",
   "execution_count": 36,
   "id": "6580a483",
   "metadata": {},
   "outputs": [
    {
     "data": {
      "text/plain": [
       "set"
      ]
     },
     "execution_count": 36,
     "metadata": {},
     "output_type": "execute_result"
    }
   ],
   "source": [
    "type(set4)"
   ]
  },
  {
   "cell_type": "code",
   "execution_count": 37,
   "id": "7d6972f8",
   "metadata": {},
   "outputs": [],
   "source": [
    "set1.discard(1)"
   ]
  },
  {
   "cell_type": "code",
   "execution_count": 38,
   "id": "a82cae65",
   "metadata": {},
   "outputs": [
    {
     "data": {
      "text/plain": [
       "{2, 3, 4, 6, 7, 8, 'a', 'b', 'c', 'x'}"
      ]
     },
     "execution_count": 38,
     "metadata": {},
     "output_type": "execute_result"
    }
   ],
   "source": [
    "set1"
   ]
  },
  {
   "cell_type": "code",
   "execution_count": 40,
   "id": "31a3d55b",
   "metadata": {},
   "outputs": [],
   "source": [
    "set1.discard(9)"
   ]
  },
  {
   "cell_type": "code",
   "execution_count": 41,
   "id": "3c98c225",
   "metadata": {},
   "outputs": [
    {
     "data": {
      "text/plain": [
       "False"
      ]
     },
     "execution_count": 41,
     "metadata": {},
     "output_type": "execute_result"
    }
   ],
   "source": [
    "set4.isdisjoint(set1)"
   ]
  },
  {
   "cell_type": "code",
   "execution_count": 42,
   "id": "37e9859c",
   "metadata": {},
   "outputs": [],
   "source": [
    "disj1 = {1,2}"
   ]
  },
  {
   "cell_type": "code",
   "execution_count": 43,
   "id": "f2a54e07",
   "metadata": {},
   "outputs": [],
   "source": [
    "disj2 = {3}"
   ]
  },
  {
   "cell_type": "code",
   "execution_count": 44,
   "id": "b9ff4616",
   "metadata": {},
   "outputs": [
    {
     "data": {
      "text/plain": [
       "True"
      ]
     },
     "execution_count": 44,
     "metadata": {},
     "output_type": "execute_result"
    }
   ],
   "source": [
    "disj1.isdisjoint(disj2)"
   ]
  },
  {
   "cell_type": "code",
   "execution_count": 50,
   "id": "8b7b9820",
   "metadata": {},
   "outputs": [],
   "source": [
    "set6 = {2,3,4}"
   ]
  },
  {
   "cell_type": "code",
   "execution_count": 51,
   "id": "907ef027",
   "metadata": {},
   "outputs": [
    {
     "data": {
      "text/plain": [
       "True"
      ]
     },
     "execution_count": 51,
     "metadata": {},
     "output_type": "execute_result"
    }
   ],
   "source": [
    "set6.issubset(set1)"
   ]
  },
  {
   "cell_type": "code",
   "execution_count": 52,
   "id": "768d6787",
   "metadata": {},
   "outputs": [
    {
     "data": {
      "text/plain": [
       "True"
      ]
     },
     "execution_count": 52,
     "metadata": {},
     "output_type": "execute_result"
    }
   ],
   "source": [
    "set1.issuperset(set6)"
   ]
  },
  {
   "cell_type": "code",
   "execution_count": 54,
   "id": "e56d16e3",
   "metadata": {},
   "outputs": [],
   "source": [
    "setnew= set()"
   ]
  },
  {
   "cell_type": "code",
   "execution_count": 56,
   "id": "92c9d1a4",
   "metadata": {},
   "outputs": [],
   "source": [
    "setnew1=set1.copy()"
   ]
  },
  {
   "cell_type": "code",
   "execution_count": 57,
   "id": "2fdf2a09",
   "metadata": {},
   "outputs": [
    {
     "data": {
      "text/plain": [
       "{2, 3, 4, 6, 7, 8, 'a', 'b', 'c', 'x'}"
      ]
     },
     "execution_count": 57,
     "metadata": {},
     "output_type": "execute_result"
    }
   ],
   "source": [
    "setnew1"
   ]
  },
  {
   "cell_type": "code",
   "execution_count": 58,
   "id": "5226f992",
   "metadata": {},
   "outputs": [
    {
     "data": {
      "text/plain": [
       "{2, 3, 4, 6, 7, 8, 'a', 'b', 'c', 'x'}"
      ]
     },
     "execution_count": 58,
     "metadata": {},
     "output_type": "execute_result"
    }
   ],
   "source": [
    "set1"
   ]
  },
  {
   "cell_type": "code",
   "execution_count": 59,
   "id": "59a981c0",
   "metadata": {},
   "outputs": [
    {
     "data": {
      "text/plain": [
       "2574072881216"
      ]
     },
     "execution_count": 59,
     "metadata": {},
     "output_type": "execute_result"
    }
   ],
   "source": [
    "id(set1)"
   ]
  },
  {
   "cell_type": "code",
   "execution_count": 60,
   "id": "b47e0301",
   "metadata": {},
   "outputs": [
    {
     "data": {
      "text/plain": [
       "2574066199008"
      ]
     },
     "execution_count": 60,
     "metadata": {},
     "output_type": "execute_result"
    }
   ],
   "source": [
    "id(setnew1)"
   ]
  },
  {
   "cell_type": "code",
   "execution_count": 61,
   "id": "fcce31e3",
   "metadata": {},
   "outputs": [],
   "source": [
    "set1.intersection_update(set6)"
   ]
  },
  {
   "cell_type": "code",
   "execution_count": 62,
   "id": "fdd2a1dc",
   "metadata": {},
   "outputs": [
    {
     "data": {
      "text/plain": [
       "{2, 3, 4}"
      ]
     },
     "execution_count": 62,
     "metadata": {},
     "output_type": "execute_result"
    }
   ],
   "source": [
    "set1"
   ]
  },
  {
   "cell_type": "code",
   "execution_count": 63,
   "id": "9d6f0c66",
   "metadata": {},
   "outputs": [],
   "source": [
    "set1.clear()"
   ]
  },
  {
   "cell_type": "code",
   "execution_count": 64,
   "id": "c4abb407",
   "metadata": {},
   "outputs": [
    {
     "data": {
      "text/plain": [
       "set()"
      ]
     },
     "execution_count": 64,
     "metadata": {},
     "output_type": "execute_result"
    }
   ],
   "source": [
    "set1"
   ]
  },
  {
   "cell_type": "code",
   "execution_count": 65,
   "id": "6bec311c",
   "metadata": {},
   "outputs": [
    {
     "data": {
      "text/plain": [
       "set"
      ]
     },
     "execution_count": 65,
     "metadata": {},
     "output_type": "execute_result"
    }
   ],
   "source": [
    "type(set6)"
   ]
  },
  {
   "cell_type": "code",
   "execution_count": 67,
   "id": "6be4facf",
   "metadata": {},
   "outputs": [
    {
     "data": {
      "text/plain": [
       "{2, 3, 4}"
      ]
     },
     "execution_count": 67,
     "metadata": {},
     "output_type": "execute_result"
    }
   ],
   "source": [
    "set6"
   ]
  },
  {
   "cell_type": "code",
   "execution_count": 68,
   "id": "86de7c88",
   "metadata": {},
   "outputs": [
    {
     "data": {
      "text/plain": [
       "2"
      ]
     },
     "execution_count": 68,
     "metadata": {},
     "output_type": "execute_result"
    }
   ],
   "source": [
    "set6.pop()"
   ]
  },
  {
   "cell_type": "code",
   "execution_count": 69,
   "id": "78bbbea6",
   "metadata": {},
   "outputs": [
    {
     "data": {
      "text/plain": [
       "{1, 2, 3, 4, 6, 7, 8, 'a', 'b', 'c', 'x'}"
      ]
     },
     "execution_count": 69,
     "metadata": {},
     "output_type": "execute_result"
    }
   ],
   "source": [
    "setUnion"
   ]
  },
  {
   "cell_type": "code",
   "execution_count": 72,
   "id": "915dcc58",
   "metadata": {},
   "outputs": [
    {
     "data": {
      "text/plain": [
       "3"
      ]
     },
     "execution_count": 72,
     "metadata": {},
     "output_type": "execute_result"
    }
   ],
   "source": [
    "setUnion.pop()"
   ]
  },
  {
   "cell_type": "code",
   "execution_count": 73,
   "id": "94378b7e",
   "metadata": {},
   "outputs": [
    {
     "ename": "KeyError",
     "evalue": "1",
     "output_type": "error",
     "traceback": [
      "\u001b[1;31m---------------------------------------------------------------------------\u001b[0m",
      "\u001b[1;31mKeyError\u001b[0m                                  Traceback (most recent call last)",
      "\u001b[1;32m<ipython-input-73-b622f880ca84>\u001b[0m in \u001b[0;36m<module>\u001b[1;34m\u001b[0m\n\u001b[1;32m----> 1\u001b[1;33m \u001b[0msetUnion\u001b[0m\u001b[1;33m.\u001b[0m\u001b[0mremove\u001b[0m\u001b[1;33m(\u001b[0m\u001b[1;36m1\u001b[0m\u001b[1;33m)\u001b[0m\u001b[1;33m\u001b[0m\u001b[1;33m\u001b[0m\u001b[0m\n\u001b[0m",
      "\u001b[1;31mKeyError\u001b[0m: 1"
     ]
    }
   ],
   "source": [
    "setUnion.remove(1) # remove gives KeyError if the element to be deleted is not present in the given set"
   ]
  },
  {
   "cell_type": "code",
   "execution_count": 75,
   "id": "bf913cd8",
   "metadata": {},
   "outputs": [],
   "source": [
    "setUnion.remove('b')"
   ]
  },
  {
   "cell_type": "code",
   "execution_count": 76,
   "id": "e4b527f3",
   "metadata": {},
   "outputs": [
    {
     "data": {
      "text/plain": [
       "{4, 6, 7, 8, 'a', 'c', 'x'}"
      ]
     },
     "execution_count": 76,
     "metadata": {},
     "output_type": "execute_result"
    }
   ],
   "source": [
    "setUnion"
   ]
  },
  {
   "cell_type": "code",
   "execution_count": null,
   "id": "8a3814b2",
   "metadata": {},
   "outputs": [],
   "source": []
  }
 ],
 "metadata": {
  "kernelspec": {
   "display_name": "Python 3",
   "language": "python",
   "name": "python3"
  },
  "language_info": {
   "codemirror_mode": {
    "name": "ipython",
    "version": 3
   },
   "file_extension": ".py",
   "mimetype": "text/x-python",
   "name": "python",
   "nbconvert_exporter": "python",
   "pygments_lexer": "ipython3",
   "version": "3.8.8"
  }
 },
 "nbformat": 4,
 "nbformat_minor": 5
}
