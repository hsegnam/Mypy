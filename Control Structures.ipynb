{
 "cells": [
  {
   "cell_type": "code",
   "execution_count": 1,
   "id": "cdc0187f",
   "metadata": {},
   "outputs": [],
   "source": [
    "# Python is an indented language"
   ]
  },
  {
   "cell_type": "code",
   "execution_count": 2,
   "id": "ba8bb29c",
   "metadata": {},
   "outputs": [],
   "source": [
    "# IF---> it returns boolean value true if the condion is true\n",
    "# syntax: if(condidion):\n",
    "# then do something"
   ]
  },
  {
   "cell_type": "code",
   "execution_count": 3,
   "id": "d6c1c907",
   "metadata": {},
   "outputs": [
    {
     "data": {
      "text/plain": [
       "' simple if()\\nif else\\nif else ladder\\nnested if else\\n'"
      ]
     },
     "execution_count": 3,
     "metadata": {},
     "output_type": "execute_result"
    }
   ],
   "source": [
    "''' simple if()\n",
    "if else\n",
    "if else ladder\n",
    "nested if else\n",
    "''' "
   ]
  },
  {
   "cell_type": "code",
   "execution_count": 12,
   "id": "2ad59298",
   "metadata": {},
   "outputs": [
    {
     "name": "stdout",
     "output_type": "stream",
     "text": [
      "Outside of If\n"
     ]
    }
   ],
   "source": [
    "num1 =3\n",
    "\n",
    "if(num1==2):\n",
    "    print('The condition is true')\n",
    "    print('another statement from if block')\n",
    "    print('Yet another statement')\n",
    "print('Outside of If')\n"
   ]
  },
  {
   "cell_type": "code",
   "execution_count": null,
   "id": "2ce9a64b",
   "metadata": {},
   "outputs": [],
   "source": [
    "'''\n",
    "if else Block\n",
    "if(condition)\n",
    "    statements\n",
    "else:\n",
    "    statements\n",
    "    \n",
    "outside if else block\n",
    "\n",
    "'''"
   ]
  },
  {
   "cell_type": "code",
   "execution_count": 16,
   "id": "8c0a75a5",
   "metadata": {},
   "outputs": [
    {
     "name": "stdout",
     "output_type": "stream",
     "text": [
      "Inside Else Block\n",
      "Because The condition in if block is false\n",
      "Outside of if else block\n"
     ]
    }
   ],
   "source": [
    "num2 = 11\n",
    "\n",
    "if(num2 == 10):\n",
    "    print(\"inside if block\")\n",
    "    print('Because the condition is true')\n",
    "else:\n",
    "    print('Inside Else Block')\n",
    "    print('Because The condition in if block is false')\n",
    "print('Outside of if else block')"
   ]
  },
  {
   "cell_type": "code",
   "execution_count": 17,
   "id": "c30022af",
   "metadata": {},
   "outputs": [
    {
     "data": {
      "text/plain": [
       "'\\nDetermine the class of student result\\n100-85---> Outstanding\\n70-84.99---> Fisrt class with distinction\\n60-69.99---> First class\\n50- 59.99 ---> Second Class\\n40- 49.99 ---> Pass\\n less than 39.99 ---> Fail\\n\\n'"
      ]
     },
     "execution_count": 17,
     "metadata": {},
     "output_type": "execute_result"
    }
   ],
   "source": [
    "'''\n",
    "Determine the class of student result\n",
    "100-85---> Outstanding\n",
    "70-84.99---> Fisrt class with distinction\n",
    "60-69.99---> First class\n",
    "50- 59.99 ---> Second Class\n",
    "40- 49.99 ---> Pass\n",
    " less than 39.99 ---> Fail\n",
    "\n",
    "'''"
   ]
  },
  {
   "cell_type": "code",
   "execution_count": null,
   "id": "993101fb",
   "metadata": {},
   "outputs": [],
   "source": [
    "''' \n",
    "if Else Ladder\n",
    "if(cond1):\n",
    "    statements\n",
    "\n",
    "elif(cond2):\n",
    "    Statements\n",
    "\n",
    "elif(cond3):\n",
    "    Statements\n",
    "elif(cond4):\n",
    "    Statements\n",
    "    .\n",
    "    .\n",
    "    .\n",
    "    .\n",
    "    .\n",
    "else:\n",
    "    Statements\n",
    "    \n",
    "\n",
    "\n",
    "\n",
    "\n",
    "''' \n"
   ]
  },
  {
   "cell_type": "code",
   "execution_count": 30,
   "id": "9a7ac3eb",
   "metadata": {},
   "outputs": [
    {
     "name": "stdout",
     "output_type": "stream",
     "text": [
      "Enter the percentages of the student: 50\n",
      "Second class\n"
     ]
    }
   ],
   "source": [
    "percentges = float(input('Enter the percentages of the student: '))\n",
    "if(100>=percentges>=85 ):\n",
    "    print('Outstanding')\n",
    "elif(85>percentges>=70):\n",
    "    print(\"First class with Distinction\")\n",
    "elif(70>percentges>=60):\n",
    "    print('First class')\n",
    "elif(60>percentges>= 50):\n",
    "    print('Second class')\n",
    "elif(50>percentges>=40):\n",
    "    print('Pass class')\n",
    "elif(0<=percentges<40):\n",
    "    print(\"Fails\")\n",
    "else:\n",
    "    print('Invalid input')\n",
    "    "
   ]
  },
  {
   "cell_type": "code",
   "execution_count": null,
   "id": "e15a9db4",
   "metadata": {},
   "outputs": [],
   "source": []
  },
  {
   "cell_type": "code",
   "execution_count": null,
   "id": "bf6739f1",
   "metadata": {},
   "outputs": [],
   "source": []
  }
 ],
 "metadata": {
  "kernelspec": {
   "display_name": "Python 3",
   "language": "python",
   "name": "python3"
  },
  "language_info": {
   "codemirror_mode": {
    "name": "ipython",
    "version": 3
   },
   "file_extension": ".py",
   "mimetype": "text/x-python",
   "name": "python",
   "nbconvert_exporter": "python",
   "pygments_lexer": "ipython3",
   "version": "3.8.8"
  }
 },
 "nbformat": 4,
 "nbformat_minor": 5
}
