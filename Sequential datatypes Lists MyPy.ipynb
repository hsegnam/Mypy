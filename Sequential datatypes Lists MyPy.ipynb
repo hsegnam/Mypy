{
 "cells": [
  {
   "cell_type": "code",
   "execution_count": 1,
   "id": "87c178fd",
   "metadata": {},
   "outputs": [],
   "source": [
    "# List\n",
    "# Syntax -----> VarName = [ Comma seperated List Elements]\n",
    "# List is a collection of homogeneous---> same kind of data----> int int int int int\n",
    "# or heterogeneous data element----> Different------> int, float , String\n",
    "# It is an ordered collection of elements----> index starts with 0\n",
    "# Mutable"
   ]
  },
  {
   "cell_type": "code",
   "execution_count": 3,
   "id": "8fcf15b8",
   "metadata": {},
   "outputs": [],
   "source": [
    "lst1 = [1,3,4,5,6]"
   ]
  },
  {
   "cell_type": "code",
   "execution_count": 4,
   "id": "7cb79c99",
   "metadata": {},
   "outputs": [
    {
     "data": {
      "text/plain": [
       "[1, 3, 4, 5, 6]"
      ]
     },
     "execution_count": 4,
     "metadata": {},
     "output_type": "execute_result"
    }
   ],
   "source": [
    "lst1"
   ]
  },
  {
   "cell_type": "code",
   "execution_count": 5,
   "id": "4b34d968",
   "metadata": {},
   "outputs": [],
   "source": [
    "lst2= lst1"
   ]
  },
  {
   "cell_type": "code",
   "execution_count": 15,
   "id": "a9405785",
   "metadata": {},
   "outputs": [
    {
     "data": {
      "text/plain": [
       "[1, 2, 4, 5, 6]"
      ]
     },
     "execution_count": 15,
     "metadata": {},
     "output_type": "execute_result"
    }
   ],
   "source": [
    "lst2"
   ]
  },
  {
   "cell_type": "code",
   "execution_count": 12,
   "id": "b5e105b9",
   "metadata": {},
   "outputs": [
    {
     "data": {
      "text/plain": [
       "3004519724096"
      ]
     },
     "execution_count": 12,
     "metadata": {},
     "output_type": "execute_result"
    }
   ],
   "source": [
    "id(lst1)"
   ]
  },
  {
   "cell_type": "code",
   "execution_count": 13,
   "id": "d00be081",
   "metadata": {},
   "outputs": [
    {
     "data": {
      "text/plain": [
       "3004519724096"
      ]
     },
     "execution_count": 13,
     "metadata": {},
     "output_type": "execute_result"
    }
   ],
   "source": [
    "id(lst2)"
   ]
  },
  {
   "cell_type": "code",
   "execution_count": 9,
   "id": "c3803bc8",
   "metadata": {},
   "outputs": [
    {
     "data": {
      "text/plain": [
       "1"
      ]
     },
     "execution_count": 9,
     "metadata": {},
     "output_type": "execute_result"
    }
   ],
   "source": [
    "lst1[0]"
   ]
  },
  {
   "cell_type": "code",
   "execution_count": 10,
   "id": "252c076b",
   "metadata": {},
   "outputs": [],
   "source": [
    "lst1[1] = 2"
   ]
  },
  {
   "cell_type": "code",
   "execution_count": 11,
   "id": "d5283444",
   "metadata": {},
   "outputs": [
    {
     "data": {
      "text/plain": [
       "[1, 2, 4, 5, 6]"
      ]
     },
     "execution_count": 11,
     "metadata": {},
     "output_type": "execute_result"
    }
   ],
   "source": [
    "lst1"
   ]
  },
  {
   "cell_type": "code",
   "execution_count": 18,
   "id": "b738d42e",
   "metadata": {},
   "outputs": [],
   "source": [
    "a= None"
   ]
  },
  {
   "cell_type": "code",
   "execution_count": 20,
   "id": "91c1b570",
   "metadata": {},
   "outputs": [],
   "source": [
    "lst4 = list()"
   ]
  },
  {
   "cell_type": "code",
   "execution_count": 21,
   "id": "b74d688d",
   "metadata": {},
   "outputs": [
    {
     "data": {
      "text/plain": [
       "list"
      ]
     },
     "execution_count": 21,
     "metadata": {},
     "output_type": "execute_result"
    }
   ],
   "source": [
    "type(lst4)"
   ]
  },
  {
   "cell_type": "code",
   "execution_count": 22,
   "id": "d6ac50f3",
   "metadata": {},
   "outputs": [
    {
     "data": {
      "text/plain": [
       "NoneType"
      ]
     },
     "execution_count": 22,
     "metadata": {},
     "output_type": "execute_result"
    }
   ],
   "source": [
    "type(a)"
   ]
  },
  {
   "cell_type": "code",
   "execution_count": 23,
   "id": "b0912e4a",
   "metadata": {},
   "outputs": [],
   "source": [
    "# Operations on List ---> Adding ELements to the list"
   ]
  },
  {
   "cell_type": "code",
   "execution_count": 24,
   "id": "8e8e2cff",
   "metadata": {},
   "outputs": [
    {
     "data": {
      "text/plain": [
       "[1, 2, 4, 5, 6]"
      ]
     },
     "execution_count": 24,
     "metadata": {},
     "output_type": "execute_result"
    }
   ],
   "source": [
    "lst1"
   ]
  },
  {
   "cell_type": "code",
   "execution_count": 25,
   "id": "f1002b8a",
   "metadata": {},
   "outputs": [],
   "source": [
    "lst1.append(7)# add element at last position"
   ]
  },
  {
   "cell_type": "code",
   "execution_count": 26,
   "id": "2747bcf9",
   "metadata": {},
   "outputs": [
    {
     "data": {
      "text/plain": [
       "[1, 2, 4, 5, 6, 7]"
      ]
     },
     "execution_count": 26,
     "metadata": {},
     "output_type": "execute_result"
    }
   ],
   "source": [
    "lst1"
   ]
  },
  {
   "cell_type": "code",
   "execution_count": 27,
   "id": "300cca20",
   "metadata": {},
   "outputs": [],
   "source": [
    "lst1.insert(3,10) # add element at specific index"
   ]
  },
  {
   "cell_type": "code",
   "execution_count": 28,
   "id": "ab5a93ef",
   "metadata": {},
   "outputs": [
    {
     "data": {
      "text/plain": [
       "[1, 2, 4, 10, 5, 6, 7]"
      ]
     },
     "execution_count": 28,
     "metadata": {},
     "output_type": "execute_result"
    }
   ],
   "source": [
    "lst1"
   ]
  },
  {
   "cell_type": "code",
   "execution_count": 32,
   "id": "a3dc8424",
   "metadata": {},
   "outputs": [],
   "source": [
    "lst1.extend([11,22,33,44]) # Add multiple elements at last"
   ]
  },
  {
   "cell_type": "code",
   "execution_count": 33,
   "id": "f107e758",
   "metadata": {},
   "outputs": [
    {
     "data": {
      "text/plain": [
       "[1, 2, 4, 10, 5, 6, 7, 11, 22, 33, 44, 11, 22, 33, 44, 11, 22, 33, 44]"
      ]
     },
     "execution_count": 33,
     "metadata": {},
     "output_type": "execute_result"
    }
   ],
   "source": [
    "lst1"
   ]
  },
  {
   "cell_type": "code",
   "execution_count": 34,
   "id": "e8488ae9",
   "metadata": {},
   "outputs": [],
   "source": [
    "# Delete elemengts from list ---> pop, remove"
   ]
  },
  {
   "cell_type": "code",
   "execution_count": 35,
   "id": "9e5a0a9c",
   "metadata": {},
   "outputs": [
    {
     "data": {
      "text/plain": [
       "7"
      ]
     },
     "execution_count": 35,
     "metadata": {},
     "output_type": "execute_result"
    }
   ],
   "source": [
    "lst1.pop(6) # Delete element from the specific index or location"
   ]
  },
  {
   "cell_type": "code",
   "execution_count": 36,
   "id": "47f94d36",
   "metadata": {},
   "outputs": [
    {
     "data": {
      "text/plain": [
       "[1, 2, 4, 10, 5, 6, 11, 22, 33, 44, 11, 22, 33, 44, 11, 22, 33, 44]"
      ]
     },
     "execution_count": 36,
     "metadata": {},
     "output_type": "execute_result"
    }
   ],
   "source": [
    "lst1"
   ]
  },
  {
   "cell_type": "code",
   "execution_count": 37,
   "id": "c434ca2a",
   "metadata": {},
   "outputs": [],
   "source": [
    "lst1.remove(11) # deletes first occurance given element from list"
   ]
  },
  {
   "cell_type": "code",
   "execution_count": 38,
   "id": "750186ca",
   "metadata": {},
   "outputs": [
    {
     "data": {
      "text/plain": [
       "[1, 2, 4, 10, 5, 6, 22, 33, 44, 11, 22, 33, 44, 11, 22, 33, 44]"
      ]
     },
     "execution_count": 38,
     "metadata": {},
     "output_type": "execute_result"
    }
   ],
   "source": [
    "lst1"
   ]
  },
  {
   "cell_type": "code",
   "execution_count": 42,
   "id": "c35d9168",
   "metadata": {},
   "outputs": [],
   "source": [
    "lst1.remove(33)"
   ]
  },
  {
   "cell_type": "code",
   "execution_count": 44,
   "id": "1136464b",
   "metadata": {},
   "outputs": [
    {
     "data": {
      "text/plain": [
       "3"
      ]
     },
     "execution_count": 44,
     "metadata": {},
     "output_type": "execute_result"
    }
   ],
   "source": [
    "lst1.count(44) # returns the number of occurnace og gigrn element"
   ]
  },
  {
   "cell_type": "code",
   "execution_count": 45,
   "id": "0745a074",
   "metadata": {},
   "outputs": [
    {
     "data": {
      "text/plain": [
       "10"
      ]
     },
     "execution_count": 45,
     "metadata": {},
     "output_type": "execute_result"
    }
   ],
   "source": [
    "lst1.index(33) # it is used to find the index of given element in the list"
   ]
  },
  {
   "cell_type": "code",
   "execution_count": 46,
   "id": "834c7ebd",
   "metadata": {},
   "outputs": [
    {
     "data": {
      "text/plain": [
       "[1, 2, 4, 10, 5, 6, 22, 44, 11, 22, 33, 44, 11, 22, 33, 44]"
      ]
     },
     "execution_count": 46,
     "metadata": {},
     "output_type": "execute_result"
    }
   ],
   "source": [
    "lst1"
   ]
  },
  {
   "cell_type": "code",
   "execution_count": 47,
   "id": "4478c1dc",
   "metadata": {},
   "outputs": [],
   "source": [
    "lst1.reverse()"
   ]
  },
  {
   "cell_type": "code",
   "execution_count": 48,
   "id": "01ffbe0f",
   "metadata": {},
   "outputs": [
    {
     "data": {
      "text/plain": [
       "[44, 33, 22, 11, 44, 33, 22, 11, 44, 22, 6, 5, 10, 4, 2, 1]"
      ]
     },
     "execution_count": 48,
     "metadata": {},
     "output_type": "execute_result"
    }
   ],
   "source": [
    "lst1"
   ]
  },
  {
   "cell_type": "code",
   "execution_count": 49,
   "id": "0ea3cd64",
   "metadata": {},
   "outputs": [],
   "source": [
    "lst1.sort()"
   ]
  },
  {
   "cell_type": "code",
   "execution_count": 50,
   "id": "35866924",
   "metadata": {},
   "outputs": [
    {
     "data": {
      "text/plain": [
       "[1, 2, 4, 5, 6, 10, 11, 11, 22, 22, 22, 33, 33, 44, 44, 44]"
      ]
     },
     "execution_count": 50,
     "metadata": {},
     "output_type": "execute_result"
    }
   ],
   "source": [
    "lst1"
   ]
  },
  {
   "cell_type": "code",
   "execution_count": 51,
   "id": "bf626745",
   "metadata": {},
   "outputs": [],
   "source": [
    "lst1.reverse()"
   ]
  },
  {
   "cell_type": "code",
   "execution_count": 52,
   "id": "ef34b832",
   "metadata": {},
   "outputs": [
    {
     "data": {
      "text/plain": [
       "[44, 44, 44, 33, 33, 22, 22, 22, 11, 11, 10, 6, 5, 4, 2, 1]"
      ]
     },
     "execution_count": 52,
     "metadata": {},
     "output_type": "execute_result"
    }
   ],
   "source": [
    "lst1"
   ]
  },
  {
   "cell_type": "code",
   "execution_count": 56,
   "id": "edee3df4",
   "metadata": {},
   "outputs": [],
   "source": [
    "lst4= lst2.copy()"
   ]
  },
  {
   "cell_type": "code",
   "execution_count": 57,
   "id": "69200de9",
   "metadata": {},
   "outputs": [
    {
     "data": {
      "text/plain": [
       "[44, 44, 44, 33, 33, 22, 22, 22, 11, 11, 10, 6, 5, 4, 2, 1]"
      ]
     },
     "execution_count": 57,
     "metadata": {},
     "output_type": "execute_result"
    }
   ],
   "source": [
    "lst2"
   ]
  },
  {
   "cell_type": "code",
   "execution_count": 58,
   "id": "d94c45dd",
   "metadata": {},
   "outputs": [
    {
     "data": {
      "text/plain": [
       "[44, 44, 44, 33, 33, 22, 22, 22, 11, 11, 10, 6, 5, 4, 2, 1]"
      ]
     },
     "execution_count": 58,
     "metadata": {},
     "output_type": "execute_result"
    }
   ],
   "source": [
    "lst4"
   ]
  },
  {
   "cell_type": "code",
   "execution_count": 59,
   "id": "f1f757d5",
   "metadata": {},
   "outputs": [
    {
     "data": {
      "text/plain": [
       "6"
      ]
     },
     "execution_count": 59,
     "metadata": {},
     "output_type": "execute_result"
    }
   ],
   "source": [
    "lst4.pop(-5)"
   ]
  },
  {
   "cell_type": "code",
   "execution_count": 60,
   "id": "11dd45f6",
   "metadata": {},
   "outputs": [
    {
     "data": {
      "text/plain": [
       "[44, 44, 44, 33, 33, 22, 22, 22, 11, 11, 10, 5, 4, 2, 1]"
      ]
     },
     "execution_count": 60,
     "metadata": {},
     "output_type": "execute_result"
    }
   ],
   "source": [
    "lst4"
   ]
  },
  {
   "cell_type": "code",
   "execution_count": 61,
   "id": "f7c52692",
   "metadata": {},
   "outputs": [
    {
     "data": {
      "text/plain": [
       "[44, 44, 44, 33, 33, 22, 22, 22, 11, 11, 10, 6, 5, 4, 2, 1]"
      ]
     },
     "execution_count": 61,
     "metadata": {},
     "output_type": "execute_result"
    }
   ],
   "source": [
    "lst2"
   ]
  },
  {
   "cell_type": "code",
   "execution_count": 62,
   "id": "6a03c4c0",
   "metadata": {},
   "outputs": [
    {
     "data": {
      "text/plain": [
       "3004550103104"
      ]
     },
     "execution_count": 62,
     "metadata": {},
     "output_type": "execute_result"
    }
   ],
   "source": [
    "id(lst4)"
   ]
  },
  {
   "cell_type": "code",
   "execution_count": 63,
   "id": "ea4e5d73",
   "metadata": {},
   "outputs": [
    {
     "data": {
      "text/plain": [
       "3004519724096"
      ]
     },
     "execution_count": 63,
     "metadata": {},
     "output_type": "execute_result"
    }
   ],
   "source": [
    "id(lst2)"
   ]
  },
  {
   "cell_type": "code",
   "execution_count": 64,
   "id": "758a5266",
   "metadata": {},
   "outputs": [],
   "source": [
    "lst4.clear()"
   ]
  },
  {
   "cell_type": "code",
   "execution_count": 65,
   "id": "87d7d91f",
   "metadata": {},
   "outputs": [
    {
     "data": {
      "text/plain": [
       "[]"
      ]
     },
     "execution_count": 65,
     "metadata": {},
     "output_type": "execute_result"
    }
   ],
   "source": [
    "lst4"
   ]
  },
  {
   "cell_type": "code",
   "execution_count": 1,
   "id": "7e079750",
   "metadata": {},
   "outputs": [],
   "source": [
    "lst5 = [1,2,3,4,5,6,7,8]"
   ]
  },
  {
   "cell_type": "code",
   "execution_count": 2,
   "id": "0966904b",
   "metadata": {},
   "outputs": [],
   "source": [
    "lst6 = [11,22,33]"
   ]
  },
  {
   "cell_type": "code",
   "execution_count": 3,
   "id": "483e4657",
   "metadata": {},
   "outputs": [
    {
     "data": {
      "text/plain": [
       "[1, 2, 3, 4, 5, 6, 7, 8]"
      ]
     },
     "execution_count": 3,
     "metadata": {},
     "output_type": "execute_result"
    }
   ],
   "source": [
    "lst5"
   ]
  },
  {
   "cell_type": "code",
   "execution_count": 4,
   "id": "1ee1b6d1",
   "metadata": {},
   "outputs": [
    {
     "data": {
      "text/plain": [
       "[11, 22, 33]"
      ]
     },
     "execution_count": 4,
     "metadata": {},
     "output_type": "execute_result"
    }
   ],
   "source": [
    "lst6"
   ]
  },
  {
   "cell_type": "code",
   "execution_count": 7,
   "id": "22fdd5d5",
   "metadata": {},
   "outputs": [],
   "source": [
    "lst5.insert(4,lst6)"
   ]
  },
  {
   "cell_type": "code",
   "execution_count": 8,
   "id": "941b0818",
   "metadata": {},
   "outputs": [
    {
     "data": {
      "text/plain": [
       "[1, 2, 3, 4, [11, 22, 33], 5, 6, 7, 8]"
      ]
     },
     "execution_count": 8,
     "metadata": {},
     "output_type": "execute_result"
    }
   ],
   "source": [
    "lst5"
   ]
  },
  {
   "cell_type": "code",
   "execution_count": 13,
   "id": "8c5bc454",
   "metadata": {},
   "outputs": [
    {
     "data": {
      "text/plain": [
       "[11, 22, 33]"
      ]
     },
     "execution_count": 13,
     "metadata": {},
     "output_type": "execute_result"
    }
   ],
   "source": [
    "lst5[4]"
   ]
  },
  {
   "cell_type": "code",
   "execution_count": 14,
   "id": "5c295a7a",
   "metadata": {},
   "outputs": [
    {
     "data": {
      "text/plain": [
       "22"
      ]
     },
     "execution_count": 14,
     "metadata": {},
     "output_type": "execute_result"
    }
   ],
   "source": [
    "lst5[4][1]"
   ]
  },
  {
   "cell_type": "code",
   "execution_count": 16,
   "id": "9c4c0599",
   "metadata": {},
   "outputs": [],
   "source": [
    "mlist = [ [1,2,3],[4,5,6],[7,8,9]]"
   ]
  },
  {
   "cell_type": "code",
   "execution_count": 17,
   "id": "3f7ff40e",
   "metadata": {},
   "outputs": [
    {
     "data": {
      "text/plain": [
       "[[1, 2, 3], [4, 5, 6], [7, 8, 9]]"
      ]
     },
     "execution_count": 17,
     "metadata": {},
     "output_type": "execute_result"
    }
   ],
   "source": [
    "mlist"
   ]
  },
  {
   "cell_type": "code",
   "execution_count": 18,
   "id": "f21bcfab",
   "metadata": {},
   "outputs": [
    {
     "data": {
      "text/plain": [
       "7"
      ]
     },
     "execution_count": 18,
     "metadata": {},
     "output_type": "execute_result"
    }
   ],
   "source": [
    "mlist[2][0]"
   ]
  },
  {
   "cell_type": "code",
   "execution_count": 32,
   "id": "4bec1b66",
   "metadata": {},
   "outputs": [],
   "source": [
    "a=23"
   ]
  },
  {
   "cell_type": "code",
   "execution_count": 33,
   "id": "696793cc",
   "metadata": {},
   "outputs": [
    {
     "data": {
      "text/plain": [
       "88"
      ]
     },
     "execution_count": 33,
     "metadata": {},
     "output_type": "execute_result"
    }
   ],
   "source": [
    "listmulti[2][4][2][1][2][0][6][2][1]"
   ]
  },
  {
   "cell_type": "code",
   "execution_count": 26,
   "id": "8584d40c",
   "metadata": {},
   "outputs": [
    {
     "data": {
      "text/plain": [
       "90"
      ]
     },
     "execution_count": 26,
     "metadata": {},
     "output_type": "execute_result"
    }
   ],
   "source": [
    "listmulti[2][ 4] [2] [1] [2] [0] [6] [2] [1]\n"
   ]
  },
  {
   "cell_type": "code",
   "execution_count": 34,
   "id": "a3542669",
   "metadata": {},
   "outputs": [
    {
     "data": {
      "text/plain": [
       "90"
      ]
     },
     "execution_count": 34,
     "metadata": {},
     "output_type": "execute_result"
    }
   ],
   "source": [
    "listmulti[2][4][2][1][2][0][6][2][1]"
   ]
  },
  {
   "cell_type": "code",
   "execution_count": 39,
   "id": "3fe96477",
   "metadata": {},
   "outputs": [
    {
     "data": {
      "text/plain": [
       "31"
      ]
     },
     "execution_count": 39,
     "metadata": {},
     "output_type": "execute_result"
    }
   ],
   "source": [
    "listmulti[-2][-1][-1][-1][-8][-3]"
   ]
  },
  {
   "cell_type": "markdown",
   "id": "eeda1101",
   "metadata": {},
   "source": [
    "diff bet \n",
    "remove-----> when we don't know index\n",
    "            it deletes given element\n",
    "            it recieves only one argument\n",
    "\n",
    "and pop \n",
    "        it deletes element from given index\n",
    "        #it recieves 2 arguments\n",
    "        it returns deleted element"
   ]
  },
  {
   "cell_type": "code",
   "execution_count": 2,
   "id": "b3d73544",
   "metadata": {},
   "outputs": [],
   "source": [
    "popdemo= [2,3,4,5,6,7,7,8]"
   ]
  },
  {
   "cell_type": "code",
   "execution_count": 3,
   "id": "14153cfc",
   "metadata": {},
   "outputs": [
    {
     "data": {
      "text/plain": [
       "6"
      ]
     },
     "execution_count": 3,
     "metadata": {},
     "output_type": "execute_result"
    }
   ],
   "source": [
    "popdemo.pop(4)"
   ]
  },
  {
   "cell_type": "code",
   "execution_count": 5,
   "id": "79edd613",
   "metadata": {},
   "outputs": [],
   "source": [
    "deleted_element = popdemo.pop(3)"
   ]
  },
  {
   "cell_type": "code",
   "execution_count": 6,
   "id": "5ad7d84c",
   "metadata": {},
   "outputs": [
    {
     "data": {
      "text/plain": [
       "5"
      ]
     },
     "execution_count": 6,
     "metadata": {},
     "output_type": "execute_result"
    }
   ],
   "source": [
    "deleted_element"
   ]
  },
  {
   "cell_type": "code",
   "execution_count": 7,
   "id": "1da44bf2",
   "metadata": {},
   "outputs": [],
   "source": [
    "popdemo.remove(7)"
   ]
  },
  {
   "cell_type": "code",
   "execution_count": 8,
   "id": "c1205e3c",
   "metadata": {},
   "outputs": [
    {
     "data": {
      "text/plain": [
       "[2, 3, 4, 7, 8]"
      ]
     },
     "execution_count": 8,
     "metadata": {},
     "output_type": "execute_result"
    }
   ],
   "source": [
    "popdemo"
   ]
  },
  {
   "cell_type": "code",
   "execution_count": 9,
   "id": "32eb1748",
   "metadata": {},
   "outputs": [],
   "source": [
    "# How to maintain the list of deleted elements"
   ]
  },
  {
   "cell_type": "code",
   "execution_count": 22,
   "id": "b262ae45",
   "metadata": {},
   "outputs": [],
   "source": [
    "list5 = [1,3,4,5,6,7,8,8,9,0,0,7]"
   ]
  },
  {
   "cell_type": "code",
   "execution_count": 23,
   "id": "16f0bb02",
   "metadata": {},
   "outputs": [],
   "source": [
    "del_ele = list()"
   ]
  },
  {
   "cell_type": "code",
   "execution_count": 30,
   "id": "6e26f452",
   "metadata": {},
   "outputs": [],
   "source": [
    "del_ele.append(list5.pop(-1))"
   ]
  },
  {
   "cell_type": "code",
   "execution_count": 31,
   "id": "ee7d565f",
   "metadata": {},
   "outputs": [
    {
     "data": {
      "text/plain": [
       "[8, 5, 7]"
      ]
     },
     "execution_count": 31,
     "metadata": {},
     "output_type": "execute_result"
    }
   ],
   "source": [
    "del_ele"
   ]
  },
  {
   "cell_type": "code",
   "execution_count": 32,
   "id": "a44c90b8",
   "metadata": {},
   "outputs": [
    {
     "data": {
      "text/plain": [
       "[1, 3, 4, 6, 7, 8, 9, 0, 0]"
      ]
     },
     "execution_count": 32,
     "metadata": {},
     "output_type": "execute_result"
    }
   ],
   "source": [
    "list5"
   ]
  },
  {
   "cell_type": "code",
   "execution_count": 33,
   "id": "82e7eabb",
   "metadata": {},
   "outputs": [],
   "source": [
    "eg1 = [1,1,1,1,1,[11,1,1,1,1,],1,1,1,1,1,11,1,11,1,1,1]"
   ]
  },
  {
   "cell_type": "code",
   "execution_count": 34,
   "id": "52acac8f",
   "metadata": {},
   "outputs": [
    {
     "data": {
      "text/plain": [
       "14"
      ]
     },
     "execution_count": 34,
     "metadata": {},
     "output_type": "execute_result"
    }
   ],
   "source": [
    "eg1.count(1)"
   ]
  },
  {
   "cell_type": "code",
   "execution_count": 36,
   "id": "517f01b9",
   "metadata": {},
   "outputs": [
    {
     "data": {
      "text/plain": [
       "4"
      ]
     },
     "execution_count": 36,
     "metadata": {},
     "output_type": "execute_result"
    }
   ],
   "source": [
    "eg1[5].count(1)"
   ]
  },
  {
   "cell_type": "code",
   "execution_count": 37,
   "id": "7d5ac2f0",
   "metadata": {},
   "outputs": [],
   "source": [
    "# heterogeneous list and operations"
   ]
  },
  {
   "cell_type": "code",
   "execution_count": 39,
   "id": "b542333a",
   "metadata": {},
   "outputs": [],
   "source": [
    "listLang= [1,'java',10.1,'Python',None,12+12j,True]"
   ]
  },
  {
   "cell_type": "code",
   "execution_count": 40,
   "id": "56d5b988",
   "metadata": {},
   "outputs": [],
   "source": [
    "StudList = [12,'John','TY',66.5,'10-01-2000']"
   ]
  },
  {
   "cell_type": "code",
   "execution_count": 41,
   "id": "dfa9c5b5",
   "metadata": {},
   "outputs": [],
   "source": [
    "# operations ---->insert,append,extend,pop,remove,\n",
    "#operations can't be performed on heterogeneous list---> sort"
   ]
  },
  {
   "cell_type": "code",
   "execution_count": 43,
   "id": "4259c201",
   "metadata": {},
   "outputs": [
    {
     "ename": "TypeError",
     "evalue": "'<' not supported between instances of 'str' and 'int'",
     "output_type": "error",
     "traceback": [
      "\u001b[1;31m---------------------------------------------------------------------------\u001b[0m",
      "\u001b[1;31mTypeError\u001b[0m                                 Traceback (most recent call last)",
      "\u001b[1;32m<ipython-input-43-85e2e48fabda>\u001b[0m in \u001b[0;36m<module>\u001b[1;34m\u001b[0m\n\u001b[1;32m----> 1\u001b[1;33m \u001b[0mStudList\u001b[0m\u001b[1;33m.\u001b[0m\u001b[0msort\u001b[0m\u001b[1;33m(\u001b[0m\u001b[1;33m)\u001b[0m\u001b[1;33m\u001b[0m\u001b[1;33m\u001b[0m\u001b[0m\n\u001b[0m",
      "\u001b[1;31mTypeError\u001b[0m: '<' not supported between instances of 'str' and 'int'"
     ]
    }
   ],
   "source": [
    "StudList.sort()"
   ]
  },
  {
   "cell_type": "code",
   "execution_count": 44,
   "id": "b46ea285",
   "metadata": {},
   "outputs": [],
   "source": [
    "demo = [1,2,3.4,1.1,2,8,5,3.8,5,9,0]"
   ]
  },
  {
   "cell_type": "code",
   "execution_count": 45,
   "id": "6d641080",
   "metadata": {},
   "outputs": [],
   "source": [
    "demo.sort()"
   ]
  },
  {
   "cell_type": "code",
   "execution_count": 46,
   "id": "1f708195",
   "metadata": {},
   "outputs": [
    {
     "data": {
      "text/plain": [
       "[0, 1, 1.1, 2, 2, 3.4, 3.8, 5, 5, 8, 9]"
      ]
     },
     "execution_count": 46,
     "metadata": {},
     "output_type": "execute_result"
    }
   ],
   "source": [
    "demo"
   ]
  },
  {
   "cell_type": "code",
   "execution_count": 47,
   "id": "18898f03",
   "metadata": {},
   "outputs": [],
   "source": [
    "demo1 = [3,2+3j]"
   ]
  },
  {
   "cell_type": "code",
   "execution_count": 48,
   "id": "828f4694",
   "metadata": {},
   "outputs": [
    {
     "ename": "TypeError",
     "evalue": "'<' not supported between instances of 'complex' and 'int'",
     "output_type": "error",
     "traceback": [
      "\u001b[1;31m---------------------------------------------------------------------------\u001b[0m",
      "\u001b[1;31mTypeError\u001b[0m                                 Traceback (most recent call last)",
      "\u001b[1;32m<ipython-input-48-95166b31651c>\u001b[0m in \u001b[0;36m<module>\u001b[1;34m\u001b[0m\n\u001b[1;32m----> 1\u001b[1;33m \u001b[0mdemo1\u001b[0m\u001b[1;33m.\u001b[0m\u001b[0msort\u001b[0m\u001b[1;33m(\u001b[0m\u001b[1;33m)\u001b[0m\u001b[1;33m\u001b[0m\u001b[1;33m\u001b[0m\u001b[0m\n\u001b[0m",
      "\u001b[1;31mTypeError\u001b[0m: '<' not supported between instances of 'complex' and 'int'"
     ]
    }
   ],
   "source": [
    "demo1.sort()"
   ]
  },
  {
   "cell_type": "code",
   "execution_count": 49,
   "id": "e925f09b",
   "metadata": {},
   "outputs": [],
   "source": [
    "StudList.reverse()"
   ]
  },
  {
   "cell_type": "code",
   "execution_count": 50,
   "id": "0842e10d",
   "metadata": {},
   "outputs": [
    {
     "data": {
      "text/plain": [
       "['10-01-2000', 66.5, 'TY', 'John', 12]"
      ]
     },
     "execution_count": 50,
     "metadata": {},
     "output_type": "execute_result"
    }
   ],
   "source": [
    "StudList"
   ]
  },
  {
   "cell_type": "code",
   "execution_count": 51,
   "id": "3bd6bd04",
   "metadata": {},
   "outputs": [],
   "source": [
    "demo3 = [1,2,3.4,1.1,2,8,5,3.8,5,9,0]"
   ]
  },
  {
   "cell_type": "code",
   "execution_count": 52,
   "id": "4fb7c0cd",
   "metadata": {},
   "outputs": [
    {
     "data": {
      "text/plain": [
       "[1, 2, 3.4, 1.1, 2, 8, 5, 3.8, 5, 9, 0]"
      ]
     },
     "execution_count": 52,
     "metadata": {},
     "output_type": "execute_result"
    }
   ],
   "source": [
    "demo3"
   ]
  },
  {
   "cell_type": "code",
   "execution_count": 53,
   "id": "5321f59c",
   "metadata": {},
   "outputs": [],
   "source": [
    "demo3.sort(reverse=True)"
   ]
  },
  {
   "cell_type": "code",
   "execution_count": 54,
   "id": "e68171fd",
   "metadata": {},
   "outputs": [
    {
     "data": {
      "text/plain": [
       "[9, 8, 5, 5, 3.8, 3.4, 2, 2, 1.1, 1, 0]"
      ]
     },
     "execution_count": 54,
     "metadata": {},
     "output_type": "execute_result"
    }
   ],
   "source": [
    "demo3"
   ]
  },
  {
   "cell_type": "code",
   "execution_count": null,
   "id": "82c71bb1",
   "metadata": {},
   "outputs": [],
   "source": []
  }
 ],
 "metadata": {
  "kernelspec": {
   "display_name": "Python 3",
   "language": "python",
   "name": "python3"
  },
  "language_info": {
   "codemirror_mode": {
    "name": "ipython",
    "version": 3
   },
   "file_extension": ".py",
   "mimetype": "text/x-python",
   "name": "python",
   "nbconvert_exporter": "python",
   "pygments_lexer": "ipython3",
   "version": "3.8.8"
  }
 },
 "nbformat": 4,
 "nbformat_minor": 5
}
