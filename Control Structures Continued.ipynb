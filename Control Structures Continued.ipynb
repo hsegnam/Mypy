{
 "cells": [
  {
   "cell_type": "code",
   "execution_count": null,
   "id": "7072fdd4",
   "metadata": {},
   "outputs": [],
   "source": [
    "'''\n",
    "range() function\n",
    "\n",
    "Looping Statements in Python\n",
    "1) for loop\n",
    "2) while loop\n",
    "\n",
    "'''"
   ]
  },
  {
   "cell_type": "code",
   "execution_count": 2,
   "id": "2f58d66c",
   "metadata": {},
   "outputs": [],
   "source": [
    "a = range(10)"
   ]
  },
  {
   "cell_type": "code",
   "execution_count": 3,
   "id": "50544422",
   "metadata": {},
   "outputs": [
    {
     "data": {
      "text/plain": [
       "range(0, 10)"
      ]
     },
     "execution_count": 3,
     "metadata": {},
     "output_type": "execute_result"
    }
   ],
   "source": [
    "a"
   ]
  },
  {
   "cell_type": "code",
   "execution_count": 4,
   "id": "e10d90a3",
   "metadata": {},
   "outputs": [
    {
     "data": {
      "text/plain": [
       "range(1, 10)"
      ]
     },
     "execution_count": 4,
     "metadata": {},
     "output_type": "execute_result"
    }
   ],
   "source": [
    "range(1,10)"
   ]
  },
  {
   "cell_type": "code",
   "execution_count": 5,
   "id": "1b6f91f5",
   "metadata": {},
   "outputs": [
    {
     "data": {
      "text/plain": [
       "range(1, 10, 2)"
      ]
     },
     "execution_count": 5,
     "metadata": {},
     "output_type": "execute_result"
    }
   ],
   "source": [
    "range(1,10,2)"
   ]
  },
  {
   "cell_type": "code",
   "execution_count": null,
   "id": "b0cb20b2",
   "metadata": {},
   "outputs": [],
   "source": [
    "# Looping statements are used to perform repeatitive task\n",
    "'''\n",
    "loop start , condition , break, continue\n",
    "\n",
    "'''"
   ]
  },
  {
   "cell_type": "code",
   "execution_count": null,
   "id": "56e73098",
   "metadata": {},
   "outputs": [],
   "source": [
    "user data 10 times 100 times\n",
    "\n"
   ]
  },
  {
   "cell_type": "code",
   "execution_count": null,
   "id": "c4819a48",
   "metadata": {},
   "outputs": [],
   "source": [
    "num = int(input(\"enter the number: \"))\n",
    "num = int(input(\"enter the number: \"))\n",
    "num = int(input(\"enter the number: \"))\n",
    "num = int(input(\"enter the number: \"))\n"
   ]
  },
  {
   "cell_type": "code",
   "execution_count": null,
   "id": "1280a6b5",
   "metadata": {},
   "outputs": [],
   "source": []
  },
  {
   "cell_type": "code",
   "execution_count": 6,
   "id": "56977195",
   "metadata": {},
   "outputs": [
    {
     "name": "stdout",
     "output_type": "stream",
     "text": [
      "Enter a number5\n",
      "Enter a number7\n",
      "Enter a number3\n",
      "Enter a number8\n",
      "Enter a number0\n",
      "Enter a number3\n",
      "Enter a number6\n",
      "Enter a number8\n",
      "Enter a number5\n",
      "Enter a number8\n",
      "[5, 7, 3, 8, 0, 3, 6, 8, 5, 8]\n"
     ]
    }
   ],
   "source": [
    "list1 = []\n",
    "for i in range(10):\n",
    "    temp = int(input(\"Enter a number\"))\n",
    "    list1.append(temp)\n",
    "\n",
    "print(list1)\n",
    "    "
   ]
  },
  {
   "cell_type": "code",
   "execution_count": 7,
   "id": "f00625a8",
   "metadata": {},
   "outputs": [
    {
     "name": "stdout",
     "output_type": "stream",
     "text": [
      "Enter a number1\n",
      " Element number 0 is: 1\n",
      "Enter a number55\n",
      " Element number 1 is: 55\n",
      "Enter a number3\n",
      " Element number 2 is: 3\n",
      "Enter a number6\n",
      " Element number 3 is: 6\n",
      "Enter a number87\n",
      " Element number 4 is: 87\n",
      "Enter a number84\n",
      " Element number 5 is: 84\n",
      "Enter a number34\n",
      " Element number 6 is: 34\n",
      "Enter a number56\n",
      " Element number 7 is: 56\n",
      "Enter a number34\n",
      " Element number 8 is: 34\n",
      "Enter a number76\n",
      " Element number 9 is: 76\n",
      "[1, 55, 3, 6, 87, 84, 34, 56, 34, 76]\n"
     ]
    }
   ],
   "source": [
    "# print a message while appending a number\n",
    "# eg Element number 1 is : 24\n",
    "\n",
    "list1 = []\n",
    "for i in range(10):\n",
    "    temp = int(input(\"Enter a number\"))\n",
    "    list1.append(temp)\n",
    "    print(f' Element number {i} is: {temp}')\n",
    "\n",
    "print(list1)\n",
    "    "
   ]
  },
  {
   "cell_type": "code",
   "execution_count": 11,
   "id": "205b3806",
   "metadata": {},
   "outputs": [
    {
     "name": "stdout",
     "output_type": "stream",
     "text": [
      "Enter a number6\n",
      " Element number 1 is: 6\n",
      "Enter a number4\n",
      " Element number 2 is: 4\n",
      "Enter a number7\n",
      " Element number 3 is: 7\n",
      "Enter a number3\n",
      " Element number 4 is: 3\n",
      "Enter a number8\n",
      " Element number 5 is: 8\n",
      "Enter a number0\n",
      " Element number 6 is: 0\n",
      "Enter a number5\n",
      " Element number 7 is: 5\n",
      "Enter a number1\n",
      " Element number 8 is: 1\n",
      "Enter a number3\n",
      " Element number 9 is: 3\n",
      "[6, 4, 7, 3, 8, 0, 5, 1, 3]\n"
     ]
    }
   ],
   "source": [
    "# Now Start the range from 1\n",
    "# To do this use range(start,stop) \n",
    "\n",
    "\n",
    "list1 = []\n",
    "for i in range(1,10):\n",
    "    temp = int(input(\"Enter a number\"))\n",
    "    list1.append(temp)\n",
    "    print(f' Element number {i} is: {temp}')\n",
    "\n",
    "print(list1)\n",
    "    "
   ]
  },
  {
   "cell_type": "code",
   "execution_count": 13,
   "id": "26eb1ac2",
   "metadata": {},
   "outputs": [
    {
     "name": "stdout",
     "output_type": "stream",
     "text": [
      " Even numbers in thr range 1-20 are: 2\n",
      " Even numbers in thr range 1-20 are: 4\n",
      " Even numbers in thr range 1-20 are: 6\n",
      " Even numbers in thr range 1-20 are: 8\n",
      " Even numbers in thr range 1-20 are: 10\n",
      " Even numbers in thr range 1-20 are: 12\n",
      " Even numbers in thr range 1-20 are: 14\n",
      " Even numbers in thr range 1-20 are: 16\n",
      " Even numbers in thr range 1-20 are: 18\n",
      " Even numbers in thr range 1-20 are: 20\n",
      "[]\n"
     ]
    }
   ],
   "source": [
    "# Print even numbers in the range 1-20\n",
    "\n",
    "list1 = []\n",
    "for i in range(2,21,2):\n",
    "    print(f' Even numbers in thr range 1-20 are: {i}')\n",
    "\n",
    "print(list1)\n",
    "    "
   ]
  },
  {
   "cell_type": "code",
   "execution_count": 14,
   "id": "0cd20194",
   "metadata": {},
   "outputs": [
    {
     "name": "stdout",
     "output_type": "stream",
     "text": [
      " Even numbers in thr range 1-20 are: 1\n",
      " Even numbers in thr range 1-20 are: 3\n",
      " Even numbers in thr range 1-20 are: 5\n",
      " Even numbers in thr range 1-20 are: 7\n",
      " Even numbers in thr range 1-20 are: 9\n",
      " Even numbers in thr range 1-20 are: 11\n",
      " Even numbers in thr range 1-20 are: 13\n",
      " Even numbers in thr range 1-20 are: 15\n",
      " Even numbers in thr range 1-20 are: 17\n",
      " Even numbers in thr range 1-20 are: 19\n"
     ]
    }
   ],
   "source": [
    "# Print odd numbers in the range 1-20\n",
    "\n",
    "for i in range(1,20,2):\n",
    "    print(f' Even numbers in thr range 1-20 are: {i}')\n",
    "\n",
    "    "
   ]
  },
  {
   "cell_type": "code",
   "execution_count": 16,
   "id": "bd30b154",
   "metadata": {},
   "outputs": [
    {
     "name": "stdout",
     "output_type": "stream",
     "text": [
      "Enter a number of which the table is to be generated: 38\n",
      "Table of the number 38 is: \n",
      "38\n",
      "76\n",
      "114\n",
      "152\n",
      "190\n",
      "228\n",
      "266\n",
      "304\n",
      "342\n",
      "380\n"
     ]
    }
   ],
   "source": [
    "# generate the table of user given number\n",
    "\n",
    "n = int(input('Enter a number of which the table is to be generated: '))\n",
    "print(f'Table of the number {n} is: ')\n",
    "for j in range(1,11):\n",
    "    print(n*j)"
   ]
  },
  {
   "cell_type": "code",
   "execution_count": null,
   "id": "1e384c53",
   "metadata": {},
   "outputs": [],
   "source": [
    "''' \n",
    "Assighnments:\n",
    "1. Write a Python Program to print even numbers in between 1-100\n",
    "2. Write a Python Program to print odd numbers in between 1-100\n",
    "3. Write a Python Program to print all  numbers divisivle by 7 in between 1-100\n",
    "\n",
    "'''  "
   ]
  }
 ],
 "metadata": {
  "kernelspec": {
   "display_name": "Python 3",
   "language": "python",
   "name": "python3"
  },
  "language_info": {
   "codemirror_mode": {
    "name": "ipython",
    "version": 3
   },
   "file_extension": ".py",
   "mimetype": "text/x-python",
   "name": "python",
   "nbconvert_exporter": "python",
   "pygments_lexer": "ipython3",
   "version": "3.8.8"
  }
 },
 "nbformat": 4,
 "nbformat_minor": 5
}
