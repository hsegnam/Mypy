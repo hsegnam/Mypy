{
 "cells": [
  {
   "cell_type": "code",
   "execution_count": null,
   "id": "7072fdd4",
   "metadata": {},
   "outputs": [],
   "source": [
    "'''\n",
    "range() function\n",
    "\n",
    "Looping Statements in Python\n",
    "1) for loop\n",
    "2) while loop\n",
    "\n",
    "'''"
   ]
  },
  {
   "cell_type": "code",
   "execution_count": 2,
   "id": "2f58d66c",
   "metadata": {},
   "outputs": [],
   "source": [
    "a = range(10)"
   ]
  },
  {
   "cell_type": "code",
   "execution_count": 3,
   "id": "37d0fc9b",
   "metadata": {},
   "outputs": [
    {
     "data": {
      "text/plain": [
       "range(0, 10)"
      ]
     },
     "execution_count": 3,
     "metadata": {},
     "output_type": "execute_result"
    }
   ],
   "source": [
    "a"
   ]
  },
  {
   "cell_type": "code",
   "execution_count": 4,
   "id": "980b6cb9",
   "metadata": {},
   "outputs": [
    {
     "data": {
      "text/plain": [
       "range(1, 10)"
      ]
     },
     "execution_count": 4,
     "metadata": {},
     "output_type": "execute_result"
    }
   ],
   "source": [
    "range(1,10)"
   ]
  },
  {
   "cell_type": "code",
   "execution_count": 5,
   "id": "6df0632a",
   "metadata": {},
   "outputs": [
    {
     "data": {
      "text/plain": [
       "range(1, 10, 2)"
      ]
     },
     "execution_count": 5,
     "metadata": {},
     "output_type": "execute_result"
    }
   ],
   "source": [
    "range(1,10,2)# 1,3,5,7,9"
   ]
  },
  {
   "cell_type": "code",
   "execution_count": null,
   "id": "7d40b260",
   "metadata": {},
   "outputs": [],
   "source": [
    "# Looping statements are used to perform repeatitive task\n",
    "'''\n",
    "loop start , condition , break, continue\n",
    "\n",
    "'''"
   ]
  },
  {
   "cell_type": "code",
   "execution_count": null,
   "id": "fa1a1c32",
   "metadata": {},
   "outputs": [],
   "source": [
    "user data 10 times 100 times\n",
    "\n"
   ]
  },
  {
   "cell_type": "code",
   "execution_count": null,
   "id": "844f1f2e",
   "metadata": {},
   "outputs": [],
   "source": [
    "num = int(input(\"enter the number: \"))\n",
    "num = int(input(\"enter the number: \"))\n",
    "num = int(input(\"enter the number: \"))\n",
    "num = int(input(\"enter the number: \"))\n"
   ]
  },
  {
   "cell_type": "code",
   "execution_count": null,
   "id": "fe35b266",
   "metadata": {},
   "outputs": [],
   "source": []
  },
  {
   "cell_type": "code",
   "execution_count": 6,
   "id": "fa6b30d1",
   "metadata": {},
   "outputs": [
    {
     "name": "stdout",
     "output_type": "stream",
     "text": [
      "Enter a number5\n",
      "Enter a number7\n",
      "Enter a number3\n",
      "Enter a number8\n",
      "Enter a number0\n",
      "Enter a number3\n",
      "Enter a number6\n",
      "Enter a number8\n",
      "Enter a number5\n",
      "Enter a number8\n",
      "[5, 7, 3, 8, 0, 3, 6, 8, 5, 8]\n"
     ]
    }
   ],
   "source": [
    "list1 = []\n",
    "for i in range(10):\n",
    "    temp = int(input(\"Enter a number\"))\n",
    "    list1.append(temp)\n",
    "\n",
    "print(list1)\n",
    "    "
   ]
  },
  {
   "cell_type": "code",
   "execution_count": 7,
   "id": "aa8f4961",
   "metadata": {},
   "outputs": [
    {
     "name": "stdout",
     "output_type": "stream",
     "text": [
      "Enter a number1\n",
      " Element number 0 is: 1\n",
      "Enter a number55\n",
      " Element number 1 is: 55\n",
      "Enter a number3\n",
      " Element number 2 is: 3\n",
      "Enter a number6\n",
      " Element number 3 is: 6\n",
      "Enter a number87\n",
      " Element number 4 is: 87\n",
      "Enter a number84\n",
      " Element number 5 is: 84\n",
      "Enter a number34\n",
      " Element number 6 is: 34\n",
      "Enter a number56\n",
      " Element number 7 is: 56\n",
      "Enter a number34\n",
      " Element number 8 is: 34\n",
      "Enter a number76\n",
      " Element number 9 is: 76\n",
      "[1, 55, 3, 6, 87, 84, 34, 56, 34, 76]\n"
     ]
    }
   ],
   "source": [
    "# print a message while appending a number\n",
    "# eg Element number 1 is : 24\n",
    "\n",
    "list1 = []\n",
    "for i in range(10):\n",
    "    temp = int(input(\"Enter a number\"))\n",
    "    list1.append(temp)\n",
    "    print(f' Element number {i} is: {temp}')\n",
    "\n",
    "print(list1)\n",
    "    "
   ]
  },
  {
   "cell_type": "code",
   "execution_count": 11,
   "id": "8e61b491",
   "metadata": {},
   "outputs": [
    {
     "name": "stdout",
     "output_type": "stream",
     "text": [
      "Enter a number6\n",
      " Element number 1 is: 6\n",
      "Enter a number4\n",
      " Element number 2 is: 4\n",
      "Enter a number7\n",
      " Element number 3 is: 7\n",
      "Enter a number3\n",
      " Element number 4 is: 3\n",
      "Enter a number8\n",
      " Element number 5 is: 8\n",
      "Enter a number0\n",
      " Element number 6 is: 0\n",
      "Enter a number5\n",
      " Element number 7 is: 5\n",
      "Enter a number1\n",
      " Element number 8 is: 1\n",
      "Enter a number3\n",
      " Element number 9 is: 3\n",
      "[6, 4, 7, 3, 8, 0, 5, 1, 3]\n"
     ]
    }
   ],
   "source": [
    "# Now Start the range from 1\n",
    "# To do this use range(start,stop) \n",
    "\n",
    "\n",
    "list1 = []\n",
    "for i in range(1,10):\n",
    "    temp = int(input(\"Enter a number\"))\n",
    "    list1.append(temp)\n",
    "    print(f' Element number {i} is: {temp}')\n",
    "\n",
    "print(list1)\n",
    "    "
   ]
  },
  {
   "cell_type": "code",
   "execution_count": 13,
   "id": "06ae3927",
   "metadata": {},
   "outputs": [
    {
     "name": "stdout",
     "output_type": "stream",
     "text": [
      " Even numbers in thr range 1-20 are: 2\n",
      " Even numbers in thr range 1-20 are: 4\n",
      " Even numbers in thr range 1-20 are: 6\n",
      " Even numbers in thr range 1-20 are: 8\n",
      " Even numbers in thr range 1-20 are: 10\n",
      " Even numbers in thr range 1-20 are: 12\n",
      " Even numbers in thr range 1-20 are: 14\n",
      " Even numbers in thr range 1-20 are: 16\n",
      " Even numbers in thr range 1-20 are: 18\n",
      " Even numbers in thr range 1-20 are: 20\n",
      "[]\n"
     ]
    }
   ],
   "source": [
    "# Print even numbers in the range 1-20\n",
    "\n",
    "list1 = []\n",
    "for i in range(2,21,2):\n",
    "    print(f' Even numbers in thr range 1-20 are: {i}')\n",
    "\n",
    "print(list1)\n",
    "    "
   ]
  },
  {
   "cell_type": "code",
   "execution_count": 14,
   "id": "1185497c",
   "metadata": {},
   "outputs": [
    {
     "name": "stdout",
     "output_type": "stream",
     "text": [
      " Even numbers in thr range 1-20 are: 1\n",
      " Even numbers in thr range 1-20 are: 3\n",
      " Even numbers in thr range 1-20 are: 5\n",
      " Even numbers in thr range 1-20 are: 7\n",
      " Even numbers in thr range 1-20 are: 9\n",
      " Even numbers in thr range 1-20 are: 11\n",
      " Even numbers in thr range 1-20 are: 13\n",
      " Even numbers in thr range 1-20 are: 15\n",
      " Even numbers in thr range 1-20 are: 17\n",
      " Even numbers in thr range 1-20 are: 19\n"
     ]
    }
   ],
   "source": [
    "# Print odd numbers in the range 1-20\n",
    "\n",
    "for i in range(1,20,2):\n",
    "    print(f' Even numbers in thr range 1-20 are: {i}')\n",
    "\n",
    "    "
   ]
  },
  {
   "cell_type": "code",
   "execution_count": 16,
   "id": "14d43ee1",
   "metadata": {},
   "outputs": [
    {
     "name": "stdout",
     "output_type": "stream",
     "text": [
      "Enter a number of which the table is to be generated: 38\n",
      "Table of the number 38 is: \n",
      "38\n",
      "76\n",
      "114\n",
      "152\n",
      "190\n",
      "228\n",
      "266\n",
      "304\n",
      "342\n",
      "380\n"
     ]
    }
   ],
   "source": [
    "# generate the table of user given number\n",
    "\n",
    "n = int(input('Enter a number of which the table is to be generated: '))\n",
    "print(f'Table of the number {n} is: ')\n",
    "for j in range(1,11):\n",
    "    print(n*j)"
   ]
  },
  {
   "cell_type": "code",
   "execution_count": 1,
   "id": "f28bbf0d",
   "metadata": {},
   "outputs": [
    {
     "data": {
      "text/plain": [
       "' \\nAssighnments:\\n1. Write a Python Program to print even numbers in between 1-100 without using step in range\\n2. Write a Python Program to print odd numbers in between 1-100 without using step in range\\n3. Write a Python Program to print all  numbers divisivle by 7 in between 1-100\\n\\n'"
      ]
     },
     "execution_count": 1,
     "metadata": {},
     "output_type": "execute_result"
    }
   ],
   "source": [
    "''' \n",
    "Assighnments:\n",
    "1. Write a Python Program to print even numbers in between 1-100 without using step in range\n",
    "2. Write a Python Program to print odd numbers in between 1-100 without using step in range\n",
    "3. Write a Python Program to print all  numbers divisivle by 7 in between 1-100\n",
    "\n",
    "'''  "
   ]
  },
  {
   "cell_type": "code",
   "execution_count": 3,
   "id": "c69b6183",
   "metadata": {},
   "outputs": [
    {
     "name": "stdout",
     "output_type": "stream",
     "text": [
      "2\n",
      "4\n",
      "6\n",
      "8\n",
      "10\n",
      "12\n",
      "14\n",
      "16\n",
      "18\n",
      "20\n",
      "22\n",
      "24\n",
      "26\n",
      "28\n",
      "30\n",
      "32\n",
      "34\n",
      "36\n",
      "38\n",
      "40\n",
      "42\n",
      "44\n",
      "46\n",
      "48\n",
      "50\n",
      "52\n",
      "54\n",
      "56\n",
      "58\n",
      "60\n",
      "62\n",
      "64\n",
      "66\n",
      "68\n",
      "70\n",
      "72\n",
      "74\n",
      "76\n",
      "78\n",
      "80\n",
      "82\n",
      "84\n",
      "86\n",
      "88\n",
      "90\n",
      "92\n",
      "94\n",
      "96\n",
      "98\n",
      "100\n"
     ]
    }
   ],
   "source": [
    "# 1. Write a Python Program to print even numbers in between 1-100 without using step in range\n",
    "for i in range(1,101):\n",
    "    if(i%2==0):\n",
    "        print(i)"
   ]
  },
  {
   "cell_type": "code",
   "execution_count": 4,
   "id": "2d2de8cf",
   "metadata": {},
   "outputs": [
    {
     "name": "stdout",
     "output_type": "stream",
     "text": [
      "1\n",
      "3\n",
      "5\n",
      "7\n",
      "9\n",
      "11\n",
      "13\n",
      "15\n",
      "17\n",
      "19\n",
      "21\n",
      "23\n",
      "25\n",
      "27\n",
      "29\n",
      "31\n",
      "33\n",
      "35\n",
      "37\n",
      "39\n",
      "41\n",
      "43\n",
      "45\n",
      "47\n",
      "49\n",
      "51\n",
      "53\n",
      "55\n",
      "57\n",
      "59\n",
      "61\n",
      "63\n",
      "65\n",
      "67\n",
      "69\n",
      "71\n",
      "73\n",
      "75\n",
      "77\n",
      "79\n",
      "81\n",
      "83\n",
      "85\n",
      "87\n",
      "89\n",
      "91\n",
      "93\n",
      "95\n",
      "97\n",
      "99\n"
     ]
    }
   ],
   "source": [
    "# 2. Write a Python Program to print odd numbers in between 1-100 without using step in range\n",
    "for i in range(1,101):\n",
    "    if(i%2!=0):\n",
    "        print(i)"
   ]
  },
  {
   "cell_type": "code",
   "execution_count": 5,
   "id": "dbb4ed05",
   "metadata": {},
   "outputs": [],
   "source": [
    "# 3. Write a Python Program to print all  numbers divisivle by 7 in between 1-100"
   ]
  },
  {
   "cell_type": "code",
   "execution_count": 6,
   "id": "fabb5727",
   "metadata": {},
   "outputs": [
    {
     "name": "stdout",
     "output_type": "stream",
     "text": [
      "7\n",
      "14\n",
      "21\n",
      "28\n",
      "35\n",
      "42\n",
      "49\n",
      "56\n",
      "63\n",
      "70\n",
      "77\n",
      "84\n",
      "91\n",
      "98\n"
     ]
    }
   ],
   "source": [
    "for i in range(1,101):\n",
    "    if(i%7==0):\n",
    "        print(i)"
   ]
  },
  {
   "cell_type": "code",
   "execution_count": 7,
   "id": "e4d7232d",
   "metadata": {},
   "outputs": [],
   "source": [
    "# For loop is basically used with range() function and all the iterables---> List, Tuple, Dictionary"
   ]
  },
  {
   "cell_type": "code",
   "execution_count": 8,
   "id": "354d1989",
   "metadata": {},
   "outputs": [],
   "source": [
    "list1 = ['Python','C++','Java','php',12,45,23,4.5]"
   ]
  },
  {
   "cell_type": "code",
   "execution_count": 9,
   "id": "70b03fe2",
   "metadata": {},
   "outputs": [
    {
     "name": "stdout",
     "output_type": "stream",
     "text": [
      "Python\n",
      "C++\n",
      "Java\n",
      "php\n",
      "12\n",
      "45\n",
      "23\n",
      "4.5\n"
     ]
    }
   ],
   "source": [
    "for i in list1:\n",
    "    print(i)"
   ]
  },
  {
   "cell_type": "code",
   "execution_count": 10,
   "id": "15fcbd12",
   "metadata": {},
   "outputs": [
    {
     "name": "stdout",
     "output_type": "stream",
     "text": [
      "3\n",
      "6\n",
      "2\n",
      "8\n",
      "5\n",
      "9\n"
     ]
    }
   ],
   "source": [
    "tup1 = (3,6,2,8,5,9)\n",
    "\n",
    "for j in tup1:\n",
    "    print(j)"
   ]
  },
  {
   "cell_type": "code",
   "execution_count": 13,
   "id": "992e1aa2",
   "metadata": {},
   "outputs": [
    {
     "name": "stdout",
     "output_type": "stream",
     "text": [
      "day1\n",
      "Mon\n",
      "day2\n",
      "Tues\n",
      "day3\n",
      "Wed\n"
     ]
    }
   ],
   "source": [
    "dict1 = {'day1':'Mon','day2':'Tues','day3':'Wed'}\n",
    "\n",
    "for i in dict1:\n",
    "    print(i)\n",
    "    print(dict1[i])"
   ]
  },
  {
   "cell_type": "code",
   "execution_count": 14,
   "id": "62d215eb",
   "metadata": {},
   "outputs": [],
   "source": [
    "# print fobonacci series uptill n numbers 1,1,2,3,5,8,13....."
   ]
  },
  {
   "cell_type": "code",
   "execution_count": 24,
   "id": "5eeccee2",
   "metadata": {},
   "outputs": [
    {
     "name": "stdout",
     "output_type": "stream",
     "text": [
      "Enter the range of the fibonacci series: 15\n",
      "1 1 2 3 5 8 13 21 34 55 89 144 233 377 610 "
     ]
    }
   ],
   "source": [
    "a=1\n",
    "b=1\n",
    "n = int(input('Enter the range of the fibonacci series: '))\n",
    "print(a,end=' ')\n",
    "for i in range(1,n):\n",
    "    print(a, end = ' ')\n",
    "    temp = a\n",
    "    a=a+b # 1+1\n",
    "    b=temp # 2"
   ]
  },
  {
   "cell_type": "code",
   "execution_count": 25,
   "id": "697a5feb",
   "metadata": {},
   "outputs": [
    {
     "ename": "SyntaxError",
     "evalue": "invalid syntax (<ipython-input-25-81bbc08cee5c>, line 8)",
     "output_type": "error",
     "traceback": [
      "\u001b[1;36m  File \u001b[1;32m\"<ipython-input-25-81bbc08cee5c>\"\u001b[1;36m, line \u001b[1;32m8\u001b[0m\n\u001b[1;33m    .\u001b[0m\n\u001b[1;37m    ^\u001b[0m\n\u001b[1;31mSyntaxError\u001b[0m\u001b[1;31m:\u001b[0m invalid syntax\n"
     ]
    }
   ],
   "source": [
    "# Nested For loop ---> loop within loop\n",
    "1\n",
    "12\n",
    "123\n",
    "1234\n",
    "12345\n",
    "123456\n",
    ".\n",
    ".\n",
    ".\n",
    ".\n"
   ]
  },
  {
   "cell_type": "code",
   "execution_count": 31,
   "id": "9a7a8621",
   "metadata": {},
   "outputs": [
    {
     "name": "stdout",
     "output_type": "stream",
     "text": [
      "1\n",
      "12\n",
      "123\n",
      "1234\n",
      "12345\n"
     ]
    }
   ],
   "source": [
    "no = int(input(\"Enter the number: \"))\n",
    "for i in range(1,no+1):\n",
    "    for j in range(1,i+1):\n",
    "        print(j,end=\"\")\n",
    "    print()"
   ]
  },
  {
   "cell_type": "code",
   "execution_count": null,
   "id": "1e3e03fe",
   "metadata": {},
   "outputs": [],
   "source": [
    "*\n",
    "**\n",
    "***\n",
    "****\n",
    "*****\n",
    ".\n",
    ".\n",
    ".\n",
    "."
   ]
  },
  {
   "cell_type": "code",
   "execution_count": 34,
   "id": "8f281b40",
   "metadata": {},
   "outputs": [
    {
     "name": "stdout",
     "output_type": "stream",
     "text": [
      "Enter the number: 8\n",
      "*\n",
      "**\n",
      "***\n",
      "****\n",
      "*****\n",
      "******\n",
      "*******\n",
      "********\n"
     ]
    }
   ],
   "source": [
    "no = int(input(\"Enter the number: \"))\n",
    "for i in range(1,no+1):\n",
    "    for j in range(1,i+1):\n",
    "        print('*',end=\"\")\n",
    "    print()"
   ]
  },
  {
   "cell_type": "code",
   "execution_count": 35,
   "id": "5159740e",
   "metadata": {},
   "outputs": [],
   "source": [
    "# printing range in descending order"
   ]
  },
  {
   "cell_type": "code",
   "execution_count": 42,
   "id": "acaef309",
   "metadata": {},
   "outputs": [
    {
     "name": "stdout",
     "output_type": "stream",
     "text": [
      "10 9 8 7 6 5 4 3 2 1 "
     ]
    }
   ],
   "source": [
    "for i in range(10,0,-1):\n",
    "    print(i,end=' ')"
   ]
  },
  {
   "cell_type": "code",
   "execution_count": null,
   "id": "ba5838a9",
   "metadata": {},
   "outputs": [],
   "source": [
    "print the following pattern\n",
    "*****\n",
    "****\n",
    "***\n",
    "**\n",
    "*"
   ]
  },
  {
   "cell_type": "code",
   "execution_count": 48,
   "id": "9639d1d1",
   "metadata": {},
   "outputs": [],
   "source": [
    "set1 = {1,3,5,2,67,4} # set is an unordered collecion of elements"
   ]
  },
  {
   "cell_type": "code",
   "execution_count": 49,
   "id": "a77a0502",
   "metadata": {},
   "outputs": [
    {
     "data": {
      "text/plain": [
       "set"
      ]
     },
     "execution_count": 49,
     "metadata": {},
     "output_type": "execute_result"
    }
   ],
   "source": [
    "type(set1)"
   ]
  },
  {
   "cell_type": "code",
   "execution_count": 50,
   "id": "eb31a18a",
   "metadata": {},
   "outputs": [
    {
     "name": "stdout",
     "output_type": "stream",
     "text": [
      "1\n",
      "2\n",
      "67\n",
      "3\n",
      "5\n",
      "4\n"
     ]
    }
   ],
   "source": [
    "for i in set1:\n",
    "    print(i)"
   ]
  },
  {
   "cell_type": "code",
   "execution_count": 51,
   "id": "0d4a8361",
   "metadata": {},
   "outputs": [],
   "source": [
    "# Break and continue statements"
   ]
  },
  {
   "cell_type": "code",
   "execution_count": 52,
   "id": "2083b683",
   "metadata": {},
   "outputs": [
    {
     "name": "stdout",
     "output_type": "stream",
     "text": [
      "0\n",
      "1\n",
      "2\n",
      "3\n",
      "4\n",
      "5\n",
      "6\n",
      "7\n"
     ]
    }
   ],
   "source": [
    "for i in range(10):\n",
    "    print(i)\n",
    "    if(i==7):\n",
    "        break"
   ]
  },
  {
   "cell_type": "code",
   "execution_count": 54,
   "id": "f98631e4",
   "metadata": {},
   "outputs": [
    {
     "name": "stdout",
     "output_type": "stream",
     "text": [
      "loop 0\n",
      "a\n",
      "b\n",
      "c\n",
      "d\n",
      "e\n",
      "loop 1\n",
      "a\n",
      "b\n",
      "c\n",
      "d\n",
      "e\n",
      "loop 2\n",
      "a\n",
      "b\n",
      "c\n",
      "loop 3\n",
      "a\n",
      "b\n",
      "c\n",
      "d\n",
      "e\n",
      "loop 4\n",
      "a\n",
      "b\n",
      "c\n",
      "d\n",
      "e\n"
     ]
    }
   ],
   "source": [
    "for i in range(5):\n",
    "    print('loop',i)\n",
    "    print('a')\n",
    "    print('b')\n",
    "    print('c')\n",
    "    if(i==2):\n",
    "        continue\n",
    "    print('d')\n",
    "    print('e')"
   ]
  },
  {
   "cell_type": "code",
   "execution_count": 55,
   "id": "6d378fca",
   "metadata": {},
   "outputs": [
    {
     "name": "stdout",
     "output_type": "stream",
     "text": [
      "loop 0\n",
      "a\n",
      "b\n",
      "c\n",
      "d\n",
      "e\n",
      "loop 1\n",
      "a\n",
      "b\n",
      "c\n",
      "d\n",
      "e\n",
      "loop 2\n",
      "a\n",
      "b\n",
      "c\n"
     ]
    }
   ],
   "source": [
    "for i in range(5):\n",
    "    print('loop',i)\n",
    "    print('a')\n",
    "    print('b')\n",
    "    print('c')\n",
    "    if(i==2):\n",
    "        break\n",
    "    print('d')\n",
    "    print('e')"
   ]
  },
  {
   "cell_type": "code",
   "execution_count": null,
   "id": "0bf65a5a",
   "metadata": {},
   "outputs": [],
   "source": []
  }
 ],
 "metadata": {
  "kernelspec": {
   "display_name": "Python 3",
   "language": "python",
   "name": "python3"
  },
  "language_info": {
   "codemirror_mode": {
    "name": "ipython",
    "version": 3
   },
   "file_extension": ".py",
   "mimetype": "text/x-python",
   "name": "python",
   "nbconvert_exporter": "python",
   "pygments_lexer": "ipython3",
   "version": "3.8.8"
  }
 },
 "nbformat": 4,
 "nbformat_minor": 5
}
