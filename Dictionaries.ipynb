{
 "cells": [
  {
   "cell_type": "code",
   "execution_count": 1,
   "id": "0d896c01",
   "metadata": {},
   "outputs": [],
   "source": [
    "# Dictionary is a data structure that stores elements in the from of key value paire\n",
    "# Syntax===> Dict_variable = {comma separated collection if Key:Value Pair}\n",
    "# Key is always immutable, and it is unique\n",
    "# value amy be mutable or immutable\n",
    "# To deal with other lang data like MongoDB, collections, Documents, JSON, BJSON"
   ]
  },
  {
   "cell_type": "code",
   "execution_count": 2,
   "id": "521e6804",
   "metadata": {},
   "outputs": [],
   "source": [
    "dict1 = {'Name':'John', 'RN':43, 'dob':'21-12-1999'}"
   ]
  },
  {
   "cell_type": "code",
   "execution_count": 4,
   "id": "536d3640",
   "metadata": {},
   "outputs": [
    {
     "data": {
      "text/plain": [
       "dict"
      ]
     },
     "execution_count": 4,
     "metadata": {},
     "output_type": "execute_result"
    }
   ],
   "source": [
    "type(dict1)"
   ]
  },
  {
   "cell_type": "code",
   "execution_count": 6,
   "id": "48cc0574",
   "metadata": {},
   "outputs": [
    {
     "data": {
      "text/plain": [
       "{'Name': 'John', 'RN': 43, 'dob': '21-12-1999'}"
      ]
     },
     "execution_count": 6,
     "metadata": {},
     "output_type": "execute_result"
    }
   ],
   "source": [
    "dict1"
   ]
  },
  {
   "cell_type": "code",
   "execution_count": 9,
   "id": "a6f05958",
   "metadata": {},
   "outputs": [],
   "source": [
    "dict1['Name'] = 'Johny'"
   ]
  },
  {
   "cell_type": "code",
   "execution_count": null,
   "id": "41407220",
   "metadata": {},
   "outputs": [],
   "source": []
  },
  {
   "cell_type": "code",
   "execution_count": 10,
   "id": "1457ff5e",
   "metadata": {
    "scrolled": true
   },
   "outputs": [
    {
     "data": {
      "text/plain": [
       "{'Name': 'Johny', 'RN': 43, 'dob': '21-12-1999'}"
      ]
     },
     "execution_count": 10,
     "metadata": {},
     "output_type": "execute_result"
    }
   ],
   "source": [
    "dict1"
   ]
  },
  {
   "cell_type": "code",
   "execution_count": 13,
   "id": "e3af8267",
   "metadata": {},
   "outputs": [],
   "source": [
    "List1 = ['day1','day2','day3']"
   ]
  },
  {
   "cell_type": "code",
   "execution_count": 14,
   "id": "3abab6f7",
   "metadata": {},
   "outputs": [],
   "source": [
    "dict2 = dict()"
   ]
  },
  {
   "cell_type": "code",
   "execution_count": 15,
   "id": "8b8fae25",
   "metadata": {},
   "outputs": [
    {
     "data": {
      "text/plain": [
       "{'day1': 'None', 'day2': 'None', 'day3': 'None'}"
      ]
     },
     "execution_count": 15,
     "metadata": {},
     "output_type": "execute_result"
    }
   ],
   "source": [
    "dict2.fromkeys(List1,'None')"
   ]
  },
  {
   "cell_type": "code",
   "execution_count": 30,
   "id": "1c7c5dbe",
   "metadata": {},
   "outputs": [],
   "source": [
    "studList = [1,2,3,4,5,6,7,8]"
   ]
  },
  {
   "cell_type": "code",
   "execution_count": 31,
   "id": "8e7c4bc4",
   "metadata": {},
   "outputs": [],
   "source": [
    "dictStud = dict()"
   ]
  },
  {
   "cell_type": "code",
   "execution_count": 43,
   "id": "e2c34b82",
   "metadata": {},
   "outputs": [],
   "source": [
    "dictStud = dictStud.fromkeys(studList, 0)\n",
    "# it creates dictionary from iterable(list,tuple) with dwfault value asigned to each element "
   ]
  },
  {
   "cell_type": "code",
   "execution_count": 46,
   "id": "84827b11",
   "metadata": {},
   "outputs": [],
   "source": [
    "dictStud[1] = 45"
   ]
  },
  {
   "cell_type": "code",
   "execution_count": 38,
   "id": "e3132e3f",
   "metadata": {},
   "outputs": [
    {
     "data": {
      "text/plain": [
       "{1: 45, 2: 0, 3: 0, 4: 0, 5: 0, 6: 0, 7: 0, 8: 0}"
      ]
     },
     "execution_count": 38,
     "metadata": {},
     "output_type": "execute_result"
    }
   ],
   "source": [
    "dictStud"
   ]
  },
  {
   "cell_type": "code",
   "execution_count": 42,
   "id": "a0c4ed7a",
   "metadata": {
    "scrolled": true
   },
   "outputs": [
    {
     "data": {
      "text/plain": [
       "{1: 45, 2: 0, 3: 0, 4: 0, 5: 0, 6: 0, 7: 0, 8: 80}"
      ]
     },
     "execution_count": 42,
     "metadata": {},
     "output_type": "execute_result"
    }
   ],
   "source": [
    "dictStud"
   ]
  },
  {
   "cell_type": "code",
   "execution_count": 41,
   "id": "5dfd65e1",
   "metadata": {},
   "outputs": [],
   "source": [
    "dictStud[8] = 80"
   ]
  },
  {
   "cell_type": "code",
   "execution_count": 47,
   "id": "8ef41990",
   "metadata": {},
   "outputs": [
    {
     "data": {
      "text/plain": [
       "45"
      ]
     },
     "execution_count": 47,
     "metadata": {},
     "output_type": "execute_result"
    }
   ],
   "source": [
    "dictStud.get(1)"
   ]
  },
  {
   "cell_type": "code",
   "execution_count": 49,
   "id": "747a8584",
   "metadata": {},
   "outputs": [
    {
     "data": {
      "text/plain": [
       "45"
      ]
     },
     "execution_count": 49,
     "metadata": {},
     "output_type": "execute_result"
    }
   ],
   "source": [
    "dictStud.pop(1)"
   ]
  },
  {
   "cell_type": "code",
   "execution_count": 51,
   "id": "72fede95",
   "metadata": {},
   "outputs": [
    {
     "data": {
      "text/plain": [
       "{2: 0, 3: 0, 4: 0, 5: 0, 6: 0, 7: 0, 8: 0}"
      ]
     },
     "execution_count": 51,
     "metadata": {},
     "output_type": "execute_result"
    }
   ],
   "source": [
    "dictStud"
   ]
  },
  {
   "cell_type": "code",
   "execution_count": 53,
   "id": "e42a2aa1",
   "metadata": {},
   "outputs": [
    {
     "data": {
      "text/plain": [
       "{'Name': 'Johny', 'RN': 43, 'dob': '21-12-1999'}"
      ]
     },
     "execution_count": 53,
     "metadata": {},
     "output_type": "execute_result"
    }
   ],
   "source": [
    "dict1"
   ]
  },
  {
   "cell_type": "code",
   "execution_count": 54,
   "id": "05a8ac0d",
   "metadata": {},
   "outputs": [],
   "source": [
    "dict1['mob'] = 65665656"
   ]
  },
  {
   "cell_type": "code",
   "execution_count": 55,
   "id": "6f310293",
   "metadata": {},
   "outputs": [
    {
     "data": {
      "text/plain": [
       "{'Name': 'Johny', 'RN': 43, 'dob': '21-12-1999', 'mob': 65665656}"
      ]
     },
     "execution_count": 55,
     "metadata": {},
     "output_type": "execute_result"
    }
   ],
   "source": [
    "dict1"
   ]
  },
  {
   "cell_type": "code",
   "execution_count": 58,
   "id": "43ebf52b",
   "metadata": {},
   "outputs": [
    {
     "data": {
      "text/plain": [
       "('dob', '21-12-1999')"
      ]
     },
     "execution_count": 58,
     "metadata": {},
     "output_type": "execute_result"
    }
   ],
   "source": [
    "dict1.popitem() # removes last element from the dictionary"
   ]
  },
  {
   "cell_type": "code",
   "execution_count": 59,
   "id": "d2915d5a",
   "metadata": {},
   "outputs": [
    {
     "data": {
      "text/plain": [
       "dict_keys(['Name', 'RN'])"
      ]
     },
     "execution_count": 59,
     "metadata": {},
     "output_type": "execute_result"
    }
   ],
   "source": [
    "dict1.keys()"
   ]
  },
  {
   "cell_type": "code",
   "execution_count": 60,
   "id": "cd95842c",
   "metadata": {},
   "outputs": [
    {
     "data": {
      "text/plain": [
       "dict_values(['Johny', 43])"
      ]
     },
     "execution_count": 60,
     "metadata": {},
     "output_type": "execute_result"
    }
   ],
   "source": [
    "dict1.values()"
   ]
  },
  {
   "cell_type": "code",
   "execution_count": null,
   "id": "1ffedf77",
   "metadata": {},
   "outputs": [],
   "source": [
    "dict1.setdefault()"
   ]
  }
 ],
 "metadata": {
  "kernelspec": {
   "display_name": "Python 3",
   "language": "python",
   "name": "python3"
  },
  "language_info": {
   "codemirror_mode": {
    "name": "ipython",
    "version": 3
   },
   "file_extension": ".py",
   "mimetype": "text/x-python",
   "name": "python",
   "nbconvert_exporter": "python",
   "pygments_lexer": "ipython3",
   "version": "3.8.8"
  }
 },
 "nbformat": 4,
 "nbformat_minor": 5
}
